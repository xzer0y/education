{
 "cells": [
  {
   "cell_type": "code",
   "execution_count": 1,
   "id": "254ae755",
   "metadata": {},
   "outputs": [],
   "source": [
    "import pandas as pd"
   ]
  },
  {
   "cell_type": "code",
   "execution_count": 2,
   "id": "221dcc3a",
   "metadata": {},
   "outputs": [],
   "source": [
    "X_data=pd.read_csv('X_data.csv')"
   ]
  },
  {
   "cell_type": "code",
   "execution_count": 3,
   "id": "cb8d3d50",
   "metadata": {},
   "outputs": [],
   "source": [
    "y_data=pd.read_csv('Y_data.csv')"
   ]
  },
  {
   "cell_type": "code",
   "execution_count": 4,
   "id": "6d0074e0",
   "metadata": {},
   "outputs": [
    {
     "data": {
      "text/plain": [
       "(10000, 10000)"
      ]
     },
     "execution_count": 4,
     "metadata": {},
     "output_type": "execute_result"
    }
   ],
   "source": [
    "X_data.shape"
   ]
  },
  {
   "cell_type": "code",
   "execution_count": 5,
   "id": "5c709c7b",
   "metadata": {},
   "outputs": [
    {
     "data": {
      "text/plain": [
       "(10000, 103)"
      ]
     },
     "execution_count": 5,
     "metadata": {},
     "output_type": "execute_result"
    }
   ],
   "source": [
    "y_data.shape"
   ]
  },
  {
   "cell_type": "code",
   "execution_count": 6,
   "id": "64ffc50f",
   "metadata": {},
   "outputs": [],
   "source": [
    "import pandas as pd\n",
    "from sklearn.model_selection import train_test_split\n",
    "import matplotlib.pyplot as plt\n",
    "from tensorflow.keras.models import Sequential\n",
    "from tensorflow.keras.layers import Dense,Dropout"
   ]
  },
  {
   "cell_type": "code",
   "execution_count": 8,
   "id": "67c63f31",
   "metadata": {},
   "outputs": [],
   "source": [
    "t_x,tt_x,t_y,tt_y=train_test_split(X_data,y_data)"
   ]
  },
  {
   "cell_type": "code",
   "execution_count": 10,
   "id": "956444d0",
   "metadata": {},
   "outputs": [
    {
     "name": "stdout",
     "output_type": "stream",
     "text": [
      "Epoch 1/10\n",
      "235/235 [==============================] - 3s 13ms/step - loss: 160.0226 - accuracy: 0.0453 - val_loss: 568.9357 - val_accuracy: 0.0024\n",
      "Epoch 2/10\n",
      "235/235 [==============================] - 3s 12ms/step - loss: 2232.8850 - accuracy: 0.0577 - val_loss: 4393.0913 - val_accuracy: 0.0024\n",
      "Epoch 3/10\n",
      "235/235 [==============================] - 3s 11ms/step - loss: 8374.9443 - accuracy: 0.0477 - val_loss: 12810.3809 - val_accuracy: 0.0024\n",
      "Epoch 4/10\n",
      "235/235 [==============================] - 3s 12ms/step - loss: 19623.5039 - accuracy: 0.0543 - val_loss: 26639.5742 - val_accuracy: 0.0024\n",
      "Epoch 5/10\n",
      "235/235 [==============================] - 3s 12ms/step - loss: 36773.6328 - accuracy: 0.0553 - val_loss: 46900.7578 - val_accuracy: 0.0024\n",
      "Epoch 6/10\n",
      "235/235 [==============================] - 3s 12ms/step - loss: 60444.3398 - accuracy: 0.0499 - val_loss: 73248.3125 - val_accuracy: 0.0000e+00\n",
      "Epoch 7/10\n",
      "235/235 [==============================] - 3s 12ms/step - loss: 91103.5547 - accuracy: 0.0496 - val_loss: 106123.5859 - val_accuracy: 0.0024\n",
      "Epoch 8/10\n",
      "235/235 [==============================] - 3s 11ms/step - loss: 128341.5547 - accuracy: 0.0565 - val_loss: 147441.4688 - val_accuracy: 0.1912\n",
      "Epoch 9/10\n",
      "235/235 [==============================] - 3s 11ms/step - loss: 173664.0781 - accuracy: 0.0501 - val_loss: 194956.5312 - val_accuracy: 0.0024\n",
      "Epoch 10/10\n",
      "235/235 [==============================] - 3s 11ms/step - loss: 226388.5000 - accuracy: 0.0511 - val_loss: 250398.7969 - val_accuracy: 0.0024\n"
     ]
    }
   ],
   "source": [
    "m=Sequential()\n",
    "m.add(Dense(256,input_shape=(10000,),activation='relu'))\n",
    "m.add(Dropout(0.5))\n",
    "m.add(Dense(128,activation='relu'))\n",
    "m.add(Dropout(0.5))\n",
    "m.add(Dense(103,activation='softmax'))\n",
    "m.compile(optimizer='adam',loss='categorical_crossentropy',\n",
    "          metrics=['accuracy'])\n",
    "hy=m.fit(t_x,t_y,epochs=10,validation_data=(tt_x,tt_y))"
   ]
  },
  {
   "cell_type": "code",
   "execution_count": 11,
   "id": "e5edf8ea",
   "metadata": {},
   "outputs": [
    {
     "data": {
      "text/plain": [
       "[<matplotlib.lines.Line2D at 0x209c724bd00>]"
      ]
     },
     "execution_count": 11,
     "metadata": {},
     "output_type": "execute_result"
    },
    {
     "data": {
      "image/png": "[encoded data removed]",
      "text/plain": [
       "<Figure size 432x288 with 1 Axes>"
      ]
     },
     "metadata": {
      "needs_background": "light"
     },
     "output_type": "display_data"
    }
   ],
   "source": [
    "ec=range(1,len(hy.history['accuracy'])+1)\n",
    "plt.plot(ec,hy.history['loss'])\n",
    "plt.plot(ec,hy.history['val_loss'])"
   ]
  }
 ],
 "metadata": {
  "kernelspec": {
   "display_name": "Python 3 (ipykernel)",
   "language": "python",
   "name": "python3"
  },
  "language_info": {
   "codemirror_mode": {
    "name": "ipython",
    "version": 3
   },
   "file_extension": ".py",
   "mimetype": "text/x-python",
   "name": "python",
   "nbconvert_exporter": "python",
   "pygments_lexer": "ipython3",
   "version": "3.9.7"
  }
 },
 "nbformat": 4,
 "nbformat_minor": 5
}
