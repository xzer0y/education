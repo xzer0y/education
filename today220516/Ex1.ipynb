{
 "cells": [
  {
   "cell_type": "code",
   "execution_count": 1,
   "id": "107aa816",
   "metadata": {},
   "outputs": [],
   "source": [
    "import pandas as pd"
   ]
  },
  {
   "cell_type": "code",
   "execution_count": 7,
   "id": "18c8224f",
   "metadata": {
    "scrolled": true
   },
   "outputs": [
    {
     "data": {
      "text/html": [
       "<div>\n",
       "<style scoped>\n",
       "    .dataframe tbody tr th:only-of-type {\n",
       "        vertical-align: middle;\n",
       "    }\n",
       "\n",
       "    .dataframe tbody tr th {\n",
       "        vertical-align: top;\n",
       "    }\n",
       "\n",
       "    .dataframe thead th {\n",
       "        text-align: right;\n",
       "    }\n",
       "</style>\n",
       "<table border=\"1\" class=\"dataframe\">\n",
       "  <thead>\n",
       "    <tr style=\"text-align: right;\">\n",
       "      <th></th>\n",
       "      <th>review</th>\n",
       "      <th>sentiment</th>\n",
       "    </tr>\n",
       "  </thead>\n",
       "  <tbody>\n",
       "    <tr>\n",
       "      <th>0</th>\n",
       "      <td>Bromwell High is a cartoon comedy. It ran at t...</td>\n",
       "      <td>1</td>\n",
       "    </tr>\n",
       "    <tr>\n",
       "      <th>1</th>\n",
       "      <td>Homelessness (or Houselessness as George Carli...</td>\n",
       "      <td>1</td>\n",
       "    </tr>\n",
       "  </tbody>\n",
       "</table>\n",
       "</div>"
      ],
      "text/plain": [
       "                                              review  sentiment\n",
       "0  Bromwell High is a cartoon comedy. It ran at t...          1\n",
       "1  Homelessness (or Houselessness as George Carli...          1"
      ]
     },
     "execution_count": 7,
     "metadata": {},
     "output_type": "execute_result"
    }
   ],
   "source": [
    "t_d=pd.read_csv('data1.csv')\n",
    "t_d.head(2)"
   ]
  },
  {
   "cell_type": "code",
   "execution_count": 9,
   "id": "98541c58",
   "metadata": {
    "scrolled": true
   },
   "outputs": [
    {
     "data": {
      "text/plain": [
       "0        Bromwell High is a cartoon comedy. It ran at t...\n",
       "1        Homelessness (or Houselessness as George Carli...\n",
       "2        Brilliant over-acting by Lesley Ann Warren. Be...\n",
       "3        This is easily the most underrated film inn th...\n",
       "4        This is not the typical Mel Brooks film. It wa...\n",
       "                               ...                        \n",
       "24995    Towards the end of the movie, I felt it was to...\n",
       "24996    This is the kind of movie that my enemies cont...\n",
       "24997    I saw 'Descent' last night at the Stockholm Fi...\n",
       "24998    Some films that you pick up for a pound turn o...\n",
       "24999    This is one of the dumbest films, I've ever se...\n",
       "Name: review, Length: 25000, dtype: object"
      ]
     },
     "execution_count": 9,
     "metadata": {},
     "output_type": "execute_result"
    }
   ],
   "source": [
    "ck_data=t_d.review\n",
    "ck_data"
   ]
  },
  {
   "cell_type": "code",
   "execution_count": 15,
   "id": "eed97445",
   "metadata": {},
   "outputs": [
    {
     "name": "stdout",
     "output_type": "stream",
     "text": [
      "['Bromwell', 'High', 'is', 'a', 'cartoon', 'comedy.', 'It', 'ran', 'at', 'the', 'same', 'time', 'as', 'some', 'other', 'programs', 'about', 'school', 'life,', 'such', 'as', '\"Teachers\".', 'My', '35', 'years', 'in', 'the', 'teaching', 'profession', 'lead', 'me', 'to', 'believe', 'that', 'Bromwell', \"High's\", 'satire', 'is', 'much', 'closer', 'to', 'reality', 'than', 'is', '\"Teachers\".', 'The', 'scramble', 'to', 'survive', 'financially,', 'the', 'insightful', 'students', 'who', 'can', 'see', 'right', 'through', 'their', 'pathetic', \"teachers'\", 'pomp,', 'the', 'pettiness', 'of', 'the', 'whole', 'situation,', 'all', 'remind', 'me', 'of', 'the', 'schools', 'I', 'knew', 'and', 'their', 'students.', 'When', 'I', 'saw', 'the', 'episode', 'in', 'which', 'a', 'student', 'repeatedly', 'tried', 'to', 'burn', 'down', 'the', 'school,', 'I', 'immediately', 'recalled', '.........', 'at', '..........', 'High.', 'A', 'classic', 'line:', 'INSPECTOR:', \"I'm\", 'here', 'to', 'sack', 'one', 'of', 'your', 'teachers.', 'STUDENT:', 'Welcome', 'to', 'Bromwell', 'High.', 'I', 'expect', 'that', 'many', 'adults', 'of', 'my', 'age', 'think', 'that', 'Bromwell', 'High', 'is', 'far', 'fetched.', 'What', 'a', 'pity', 'that', 'it', \"isn't!\"]\n"
     ]
    }
   ],
   "source": [
    "for i in ck_data:\n",
    "    print(i.split())\n",
    "    break"
   ]
  },
  {
   "cell_type": "code",
   "execution_count": 12,
   "id": "240f445c",
   "metadata": {},
   "outputs": [],
   "source": [
    "t_l=[w.split() for w in ck_data]"
   ]
  },
  {
   "cell_type": "code",
   "execution_count": 14,
   "id": "c435a848",
   "metadata": {},
   "outputs": [],
   "source": [
    "n_t_l=[len(w) for w in t_l]"
   ]
  },
  {
   "cell_type": "code",
   "execution_count": 16,
   "id": "95b72b52",
   "metadata": {},
   "outputs": [],
   "source": [
    "r_n_t_l=[len(w.replace(' ','')) for w in ck_data]"
   ]
  },
  {
   "cell_type": "code",
   "execution_count": 21,
   "id": "41a86205",
   "metadata": {},
   "outputs": [
    {
     "data": {
      "text/plain": [
       "(11235, 43)"
      ]
     },
     "execution_count": 21,
     "metadata": {},
     "output_type": "execute_result"
    }
   ],
   "source": [
    "max(r_n_t_l),min(r_n_t_l)"
   ]
  },
  {
   "cell_type": "code",
   "execution_count": 19,
   "id": "f7d443e7",
   "metadata": {
    "scrolled": true
   },
   "outputs": [
    {
     "name": "stderr",
     "output_type": "stream",
     "text": [
      "C:\\Users\\student\\AppData\\Local\\Temp/ipykernel_2768/3116190142.py:5: MatplotlibDeprecationWarning: The 'nonposy' parameter of __init__() has been renamed 'nonpositive' since Matplotlib 3.3; support for the old name will be dropped two minor releases later.\n",
      "  plt.yscale('log',nonposy='clip')\n"
     ]
    },
    {
     "data": {
      "text/plain": [
       "<matplotlib.legend.Legend at 0x26f2392e1c0>"
      ]
     },
     "execution_count": 19,
     "metadata": {},
     "output_type": "execute_result"
    },
    {
     "data": {
      "image/png": "[encoded data removed]",
      "text/plain": [
       "<Figure size 864x360 with 1 Axes>"
      ]
     },
     "metadata": {
      "needs_background": "light"
     },
     "output_type": "display_data"
    }
   ],
   "source": [
    "import matplotlib.pyplot as plt\n",
    "plt.figure(figsize=(12,5))\n",
    "plt.hist(n_t_l,alpha=0.5,bins=50,label='n')\n",
    "plt.hist(r_n_t_l,alpha=0.5,bins=50,label='r_n')\n",
    "plt.yscale('log',nonposy='clip')\n",
    "plt.legend()"
   ]
  },
  {
   "cell_type": "code",
   "execution_count": 22,
   "id": "79446b34",
   "metadata": {},
   "outputs": [],
   "source": [
    "import numpy as np"
   ]
  },
  {
   "cell_type": "code",
   "execution_count": 30,
   "id": "6502039b",
   "metadata": {},
   "outputs": [
    {
     "data": {
      "text/plain": [
       "(2470, 10, 233.7872)"
      ]
     },
     "execution_count": 30,
     "metadata": {},
     "output_type": "execute_result"
    }
   ],
   "source": [
    "np.max(n_t_l),np.min(n_t_l),np.mean(n_t_l)"
   ]
  },
  {
   "cell_type": "code",
   "execution_count": 31,
   "id": "5a2df695",
   "metadata": {},
   "outputs": [
    {
     "data": {
      "text/plain": [
       "173.72955740506566"
      ]
     },
     "execution_count": 31,
     "metadata": {},
     "output_type": "execute_result"
    }
   ],
   "source": [
    "np.std(n_t_l)"
   ]
  },
  {
   "cell_type": "code",
   "execution_count": 32,
   "id": "f3b63b95",
   "metadata": {
    "scrolled": true
   },
   "outputs": [
    {
     "data": {
      "text/plain": [
       "{'whiskers': [<matplotlib.lines.Line2D at 0x26f954a80d0>,\n",
       "  <matplotlib.lines.Line2D at 0x26f9548a490>],\n",
       " 'caps': [<matplotlib.lines.Line2D at 0x26f9548d7f0>,\n",
       "  <matplotlib.lines.Line2D at 0x26f9549e580>],\n",
       " 'boxes': [<matplotlib.lines.Line2D at 0x26f954879d0>],\n",
       " 'medians': [<matplotlib.lines.Line2D at 0x26f95494040>],\n",
       " 'fliers': [<matplotlib.lines.Line2D at 0x26f95494eb0>],\n",
       " 'means': [<matplotlib.lines.Line2D at 0x26f95494610>]}"
      ]
     },
     "execution_count": 32,
     "metadata": {},
     "output_type": "execute_result"
    },
    {
     "data": {
      "image/png": "[encoded data removed]",
      "text/plain": [
       "<Figure size 432x288 with 1 Axes>"
      ]
     },
     "metadata": {
      "needs_background": "light"
     },
     "output_type": "display_data"
    }
   ],
   "source": [
    "plt.boxplot([n_t_l],showmeans=True)"
   ]
  },
  {
   "cell_type": "code",
   "execution_count": null,
   "id": "dcbde336",
   "metadata": {},
   "outputs": [],
   "source": []
  }
 ],
 "metadata": {
  "kernelspec": {
   "display_name": "Python 3 (ipykernel)",
   "language": "python",
   "name": "python3"
  },
  "language_info": {
   "codemirror_mode": {
    "name": "ipython",
    "version": 3
   },
   "file_extension": ".py",
   "mimetype": "text/x-python",
   "name": "python",
   "nbconvert_exporter": "python",
   "pygments_lexer": "ipython3",
   "version": "3.9.7"
  }
 },
 "nbformat": 4,
 "nbformat_minor": 5
}
