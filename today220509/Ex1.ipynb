{
 "cells": [
  {
   "cell_type": "markdown",
   "id": "88fc5c76",
   "metadata": {},
   "source": [
    "띄워쓰기 자동 패키지"
   ]
  },
  {
   "cell_type": "code",
   "execution_count": 1,
   "id": "49b5dda1",
   "metadata": {},
   "outputs": [],
   "source": [
    "t='라이프 케어 플랫폼 SK쉴더스는 지난 5일 도이치텔레콤의 자회사 도이치 텔레콤 시큐리티와 상호 협력 의향서를 체결했다고 9일 밝혔다.'"
   ]
  },
  {
   "cell_type": "code",
   "execution_count": 2,
   "id": "10e509c9",
   "metadata": {},
   "outputs": [
    {
     "data": {
      "text/plain": [
       "'라이프케어플랫폼SK쉴더스는지난5일도이치텔레콤의자회사도이치텔레콤시큐리티와상호협력의향서를체결했다고9일밝혔다.'"
      ]
     },
     "execution_count": 2,
     "metadata": {},
     "output_type": "execute_result"
    }
   ],
   "source": [
    "n_t=t.replace(' ','')\n",
    "n_t"
   ]
  },
  {
   "cell_type": "code",
   "execution_count": 3,
   "id": "2c0dfbff",
   "metadata": {},
   "outputs": [
    {
     "data": {
      "text/plain": [
       "'라이프케어 플랫폼 SK 쉴더스는 지난 5일 도이치텔레콤의 자회사도이치텔레콤 시큐리티와 상호 협력의향서를 체결했다고 9일 밝혔다.'"
      ]
     },
     "execution_count": 3,
     "metadata": {},
     "output_type": "execute_result"
    }
   ],
   "source": [
    "from pykospacing import Spacing\n",
    "sc=Spacing()\n",
    "e_t=sc(n_t)\n",
    "e_t"
   ]
  },
  {
   "cell_type": "code",
   "execution_count": 4,
   "id": "47025489",
   "metadata": {
    "scrolled": false
   },
   "outputs": [
    {
     "data": {
      "text/plain": [
       "'라이프 케어 플랫폼 SK쉴더스는 지난 5일 도이치텔레콤의 자회사 도이치 텔레콤 시큐리티와 상호 협력 의향서를 체결했다고 9일 밝혔다.'"
      ]
     },
     "execution_count": 4,
     "metadata": {},
     "output_type": "execute_result"
    }
   ],
   "source": [
    "t"
   ]
  },
  {
   "cell_type": "code",
   "execution_count": 5,
   "id": "54e38eed",
   "metadata": {},
   "outputs": [],
   "source": [
    "t1='나는 외 않되? 나도 할수있으면 돼지 '"
   ]
  },
  {
   "cell_type": "code",
   "execution_count": 6,
   "id": "75d77a96",
   "metadata": {
    "scrolled": true
   },
   "outputs": [
    {
     "data": {
      "text/plain": [
       "Checked(result=True, original='나는 외 않되? 나도 할수있으면 돼지 ', checked='나는 왜 안돼? 나도 할 수 있으면 되지', errors=2, words=OrderedDict([('나는', 0), ('왜', 1), ('안돼?', 1), ('나도', 0), ('할', 1), ('수', 1), ('있으면', 1), ('되지', 1)]), time=0.10289549827575684)"
      ]
     },
     "execution_count": 6,
     "metadata": {},
     "output_type": "execute_result"
    }
   ],
   "source": [
    "from hanspell import spell_checker\n",
    "ck_t=spell_checker.check(t1)\n",
    "ck_t"
   ]
  },
  {
   "cell_type": "code",
   "execution_count": 7,
   "id": "57414fe4",
   "metadata": {},
   "outputs": [
    {
     "data": {
      "text/plain": [
       "'나는 왜 안돼? 나도 할 수 있으면 되지'"
      ]
     },
     "execution_count": 7,
     "metadata": {},
     "output_type": "execute_result"
    }
   ],
   "source": [
    "end_t=ck_t.checked\n",
    "end_t"
   ]
  },
  {
   "cell_type": "code",
   "execution_count": 8,
   "id": "16fab6cd",
   "metadata": {},
   "outputs": [
    {
     "data": {
      "text/plain": [
       "'라이프케어 플랫폼 SK 쉴 다스는 지난 5일 도이치 텔레콤의 자회사 도이치 텔레콤 시큐리티와 상호 협력의향서를 체결했다고 9일 밝혔다.'"
      ]
     },
     "execution_count": 8,
     "metadata": {},
     "output_type": "execute_result"
    }
   ],
   "source": [
    "ck_t1=spell_checker.check(n_t).checked\n",
    "ck_t1"
   ]
  },
  {
   "cell_type": "code",
   "execution_count": 9,
   "id": "a78e2592",
   "metadata": {},
   "outputs": [],
   "source": [
    "from soynlp import DoublespaceLineCorpus\n",
    "from soynlp.word import WordExtractor "
   ]
  },
  {
   "cell_type": "code",
   "execution_count": 10,
   "id": "a5a27b6d",
   "metadata": {
    "scrolled": true
   },
   "outputs": [
    {
     "data": {
      "text/plain": [
       "30091"
      ]
     },
     "execution_count": 10,
     "metadata": {},
     "output_type": "execute_result"
    }
   ],
   "source": [
    "all_data=DoublespaceLineCorpus('data1.txt')\n",
    "len(all_data)"
   ]
  },
  {
   "cell_type": "code",
   "execution_count": 45,
   "id": "33e157c1",
   "metadata": {},
   "outputs": [
    {
     "data": {
      "text/plain": [
       "223357"
      ]
     },
     "execution_count": 45,
     "metadata": {},
     "output_type": "execute_result"
    }
   ],
   "source": [
    "all_data1=DoublespaceLineCorpus('data1.txt',iter_sent=True)\n",
    "len(all_data1)"
   ]
  },
  {
   "cell_type": "code",
   "execution_count": null,
   "id": "a4b79cdc",
   "metadata": {},
   "outputs": [],
   "source": [
    "for i in all_data:\n",
    "    i"
   ]
  },
  {
   "cell_type": "code",
   "execution_count": 11,
   "id": "f635d5d2",
   "metadata": {},
   "outputs": [],
   "source": [
    "w_e=WordExtractor()"
   ]
  },
  {
   "cell_type": "code",
   "execution_count": 12,
   "id": "50625de1",
   "metadata": {},
   "outputs": [
    {
     "name": "stdout",
     "output_type": "stream",
     "text": [
      "training was done. used memory 0.960 Gb\n",
      "all cohesion probabilities was computed. # words = 223348\n",
      "all branching entropies was computed # words = 361598\n",
      "all accessor variety was computed # words = 361598\n"
     ]
    }
   ],
   "source": [
    "w_e.train(all_data)\n",
    "w_e_t=w_e.extract()"
   ]
  },
  {
   "cell_type": "code",
   "execution_count": 13,
   "id": "eba62ab4",
   "metadata": {},
   "outputs": [
    {
     "data": {
      "text/plain": [
       "0.08838002913645132"
      ]
     },
     "execution_count": 13,
     "metadata": {},
     "output_type": "execute_result"
    }
   ],
   "source": [
    "w_e_t['반포한'].cohesion_forward"
   ]
  },
  {
   "cell_type": "code",
   "execution_count": 14,
   "id": "5e436dc1",
   "metadata": {
    "scrolled": false
   },
   "outputs": [
    {
     "data": {
      "text/plain": [
       "0.37891487632839754"
      ]
     },
     "execution_count": 14,
     "metadata": {},
     "output_type": "execute_result"
    }
   ],
   "source": [
    "w_e_t['반포한강공원'].cohesion_forward"
   ]
  },
  {
   "cell_type": "code",
   "execution_count": 15,
   "id": "c2da2354",
   "metadata": {
    "scrolled": false
   },
   "outputs": [
    {
     "data": {
      "text/plain": [
       "0.33492963377557666"
      ]
     },
     "execution_count": 15,
     "metadata": {},
     "output_type": "execute_result"
    }
   ],
   "source": [
    "w_e_t['반포한강공원에'].cohesion_forward"
   ]
  },
  {
   "cell_type": "code",
   "execution_count": 16,
   "id": "775c403b",
   "metadata": {
    "scrolled": false
   },
   "outputs": [
    {
     "data": {
      "text/plain": [
       "-0.0"
      ]
     },
     "execution_count": 16,
     "metadata": {},
     "output_type": "execute_result"
    }
   ],
   "source": [
    "w_e_t['반포한'].right_branching_entropy"
   ]
  },
  {
   "cell_type": "code",
   "execution_count": 17,
   "id": "91f6de24",
   "metadata": {},
   "outputs": [
    {
     "data": {
      "text/plain": [
       "1.3542944153448395"
      ]
     },
     "execution_count": 17,
     "metadata": {},
     "output_type": "execute_result"
    }
   ],
   "source": [
    "w_e_t['반포한강공원'].right_branching_entropy"
   ]
  },
  {
   "cell_type": "code",
   "execution_count": 18,
   "id": "bc525f04",
   "metadata": {},
   "outputs": [
    {
     "data": {
      "text/plain": [
       "0.9922819748525737"
      ]
     },
     "execution_count": 18,
     "metadata": {},
     "output_type": "execute_result"
    }
   ],
   "source": [
    "w_e_t['반포한강공원에'].right_branching_entropy"
   ]
  },
  {
   "cell_type": "code",
   "execution_count": 19,
   "id": "6619a2ba",
   "metadata": {},
   "outputs": [
    {
     "data": {
      "text/plain": [
       "97765"
      ]
     },
     "execution_count": 19,
     "metadata": {},
     "output_type": "execute_result"
    }
   ],
   "source": [
    "len(w_e_t)"
   ]
  },
  {
   "cell_type": "code",
   "execution_count": 20,
   "id": "3e61c49e",
   "metadata": {},
   "outputs": [
    {
     "name": "stdout",
     "output_type": "stream",
     "text": [
      "('린', Scores(cohesion_forward=0, cohesion_backward=0, left_branching_entropy=3.272816792217114, right_branching_entropy=4.374301946415952, left_accessor_variety=58, right_accessor_variety=343, leftside_frequency=90, rightside_frequency=10898))\n",
      "('첸', Scores(cohesion_forward=0, cohesion_backward=0, left_branching_entropy=1.330013842689523, right_branching_entropy=2.0993177692694096, left_accessor_variety=5, right_accessor_variety=9, leftside_frequency=8, rightside_frequency=18))\n",
      "('박', Scores(cohesion_forward=0, cohesion_backward=0, left_branching_entropy=4.2280090683216365, right_branching_entropy=4.128252164217966, left_accessor_variety=349, right_accessor_variety=250, leftside_frequency=13473, rightside_frequency=937))\n"
     ]
    }
   ],
   "source": [
    "n=0\n",
    "for i in w_e_t.items():\n",
    "    print(i)\n",
    "    n+=1\n",
    "    if n==3:\n",
    "        break"
   ]
  },
  {
   "cell_type": "code",
   "execution_count": 21,
   "id": "81d7e134",
   "metadata": {
    "scrolled": true
   },
   "outputs": [
    {
     "name": "stdout",
     "output_type": "stream",
     "text": [
      "('린', 0)\n",
      "('첸', 0)\n",
      "('박', 0)\n"
     ]
    }
   ],
   "source": [
    "from soynlp.tokenizer import LTokenizer\n",
    "sc={w:sc.cohesion_forward for w,sc in w_e_t.items()}\n",
    "n=0\n",
    "for i in sc.items():\n",
    "    print(i)\n",
    "    n+=1\n",
    "    if n==3:\n",
    "        break"
   ]
  },
  {
   "cell_type": "code",
   "execution_count": 29,
   "id": "14b39277",
   "metadata": {
    "scrolled": true
   },
   "outputs": [
    {
     "data": {
      "text/plain": [
       "['반포한강공원', '에']"
      ]
     },
     "execution_count": 29,
     "metadata": {},
     "output_type": "execute_result"
    }
   ],
   "source": [
    "l_tk=LTokenizer(scores=sc)\n",
    "ck_t='반포한강공원에'\n",
    "l_tk.tokenize(ck_t)"
   ]
  },
  {
   "cell_type": "code",
   "execution_count": 43,
   "id": "236c3f9b",
   "metadata": {
    "scrolled": false
   },
   "outputs": [
    {
     "data": {
      "text/plain": [
       "['자료', '의', '정보를', '구분하기', '위해', '문서작성을', '했다', '.']"
      ]
     },
     "execution_count": 43,
     "metadata": {},
     "output_type": "execute_result"
    }
   ],
   "source": [
    "from soynlp.tokenizer import MaxScoreTokenizer\n",
    "m_tk=MaxScoreTokenizer(scores=sc)\n",
    "ck_t='자료의정보를구분하기위해문서작성을했다.'\n",
    "m_tk.tokenize(ck_t)"
   ]
  },
  {
   "cell_type": "code",
   "execution_count": 32,
   "id": "03f1964a",
   "metadata": {},
   "outputs": [
    {
     "data": {
      "text/plain": [
       "0"
      ]
     },
     "execution_count": 32,
     "metadata": {},
     "output_type": "execute_result"
    }
   ],
   "source": [
    "w_e_t['정'].cohesion_forward"
   ]
  },
  {
   "cell_type": "code",
   "execution_count": 33,
   "id": "eb6bcec4",
   "metadata": {},
   "outputs": [
    {
     "data": {
      "text/plain": [
       "0.0745964316057774"
      ]
     },
     "execution_count": 33,
     "metadata": {},
     "output_type": "execute_result"
    }
   ],
   "source": [
    "w_e_t['정보'].cohesion_forward"
   ]
  },
  {
   "cell_type": "code",
   "execution_count": 34,
   "id": "e9059845",
   "metadata": {},
   "outputs": [
    {
     "data": {
      "text/plain": [
       "0.13143652206154155"
      ]
     },
     "execution_count": 34,
     "metadata": {},
     "output_type": "execute_result"
    }
   ],
   "source": [
    "w_e_t['정보를'].cohesion_forward"
   ]
  }
 ],
 "metadata": {
  "kernelspec": {
   "display_name": "Python 3 (ipykernel)",
   "language": "python",
   "name": "python3"
  },
  "language_info": {
   "codemirror_mode": {
    "name": "ipython",
    "version": 3
   },
   "file_extension": ".py",
   "mimetype": "text/x-python",
   "name": "python",
   "nbconvert_exporter": "python",
   "pygments_lexer": "ipython3",
   "version": "3.9.7"
  }
 },
 "nbformat": 4,
 "nbformat_minor": 5
}
