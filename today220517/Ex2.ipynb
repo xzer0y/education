{
 "cells": [
  {
   "cell_type": "code",
   "execution_count": 1,
   "id": "f9559e9c",
   "metadata": {},
   "outputs": [
    {
     "name": "stderr",
     "output_type": "stream",
     "text": [
      "<__array_function__ internals>:5: VisibleDeprecationWarning: Creating an ndarray from ragged nested sequences (which is a list-or-tuple of lists-or-tuples-or ndarrays with different lengths or shapes) is deprecated. If you meant to do this, you must specify 'dtype=object' when creating the ndarray\n",
      "C:\\ProgramData\\Anaconda3\\lib\\site-packages\\tensorflow\\python\\keras\\datasets\\imdb.py:155: VisibleDeprecationWarning: Creating an ndarray from ragged nested sequences (which is a list-or-tuple of lists-or-tuples-or ndarrays with different lengths or shapes) is deprecated. If you meant to do this, you must specify 'dtype=object' when creating the ndarray\n",
      "  x_train, y_train = np.array(xs[:idx]), np.array(labels[:idx])\n",
      "C:\\ProgramData\\Anaconda3\\lib\\site-packages\\tensorflow\\python\\keras\\datasets\\imdb.py:156: VisibleDeprecationWarning: Creating an ndarray from ragged nested sequences (which is a list-or-tuple of lists-or-tuples-or ndarrays with different lengths or shapes) is deprecated. If you meant to do this, you must specify 'dtype=object' when creating the ndarray\n",
      "  x_test, y_test = np.array(xs[idx:]), np.array(labels[idx:])\n"
     ]
    }
   ],
   "source": [
    "import tensorflow as tf\n",
    "import numpy as np\n",
    "from tensorflow.keras.layers import Dense, Embedding,SimpleRNN,LSTM\n",
    "from tensorflow.keras.models import Sequential\n",
    "from tensorflow.keras.optimizers import Adam\n",
    "from tensorflow.keras.datasets.imdb import load_data\n",
    "tf.random.set_seed(22)\n",
    "np.random.seed(22)\n",
    "(t_x,t_y),(tt_x,tt_y) = load_data(num_words=10000)\n"
   ]
  },
  {
   "cell_type": "code",
   "execution_count": 2,
   "id": "9748f00f",
   "metadata": {},
   "outputs": [],
   "source": [
    "t_x = tf.keras.preprocessing.sequence.pad_sequences(t_x,maxlen=80)\n",
    "tt_x =tf.keras.preprocessing.sequence.pad_sequences(tt_x,maxlen=80)"
   ]
  },
  {
   "cell_type": "code",
   "execution_count": 3,
   "id": "96e1501d",
   "metadata": {},
   "outputs": [
    {
     "data": {
      "text/plain": [
       "((25000, 80), (25000,), (25000, 80), (25000,))"
      ]
     },
     "execution_count": 3,
     "metadata": {},
     "output_type": "execute_result"
    }
   ],
   "source": [
    "t_x.shape,t_y.shape,tt_x.shape,tt_y.shape"
   ]
  },
  {
   "cell_type": "markdown",
   "id": "325f9651",
   "metadata": {},
   "source": [
    "#Embedding(단어수,피처차원)\n",
    "m=Sequential()\n",
    "m.add(Embedding(10000,100,input_length=80))\n",
    "m.add(SimpleRNNCell(64,dropout=0.5,return_sequences=True))\n",
    "m.add(SimpleRNNCell(64,dropout=0.5))\n",
    "m.add(Dense(1))\n",
    "tf.sigmoid()"
   ]
  },
  {
   "cell_type": "markdown",
   "id": "24fa0fdb",
   "metadata": {},
   "source": [
    "옵션작성 (하이퍼파라미터)"
   ]
  },
  {
   "cell_type": "code",
   "execution_count": 4,
   "id": "f00b4dd6",
   "metadata": {},
   "outputs": [],
   "source": [
    "배치크기=128\n",
    "총단어수=10000\n",
    "최고문장길이=80\n",
    "임배딩길이=100\n",
    "뉴런수=64\n",
    "d_out=0.5\n",
    "lr=0.001\n",
    "ec=4"
   ]
  },
  {
   "cell_type": "code",
   "execution_count": 5,
   "id": "6cf915e4",
   "metadata": {},
   "outputs": [
    {
     "name": "stdout",
     "output_type": "stream",
     "text": [
      "Epoch 1/4\n",
      "782/782 [==============================] - 20s 24ms/step - loss: 0.6293 - acc: 0.6198\n",
      "Epoch 2/4\n",
      "782/782 [==============================] - 21s 27ms/step - loss: 0.4499 - acc: 0.8010 - val_loss: 0.5412 - val_acc: 0.7262\n",
      "Epoch 3/4\n",
      "782/782 [==============================] - 18s 23ms/step - loss: 0.4199 - acc: 0.8135\n",
      "Epoch 4/4\n",
      "782/782 [==============================] - 20s 26ms/step - loss: 0.3494 - acc: 0.8571 - val_loss: 0.4714 - val_acc: 0.7978\n"
     ]
    },
    {
     "data": {
      "text/plain": [
       "<tensorflow.python.keras.callbacks.History at 0x21a8a52d040>"
      ]
     },
     "execution_count": 5,
     "metadata": {},
     "output_type": "execute_result"
    }
   ],
   "source": [
    "m=Sequential()\n",
    "m.add(Embedding(총단어수,임배딩길이,input_length=최고문장길이))\n",
    "m.add(SimpleRNN(뉴런수,dropout=d_out,return_sequences=True))\n",
    "m.add(SimpleRNN(뉴런수,dropout=d_out))\n",
    "m.add(Dense(1,activation='sigmoid'))\n",
    "m.compile(optimizer=Adam(lr),\n",
    "         loss=tf.losses.BinaryCrossentropy(),\n",
    "         metrics=['acc']\n",
    "         )\n",
    "m.fit(t_x,t_y,epochs=ec,validation_data=(tt_x,tt_y),validation_freq=2)"
   ]
  },
  {
   "cell_type": "code",
   "execution_count": null,
   "id": "9c434cfa",
   "metadata": {},
   "outputs": [
    {
     "name": "stdout",
     "output_type": "stream",
     "text": [
      "Epoch 1/4\n",
      "782/782 [==============================] - 35s 42ms/step - loss: 0.4354 - acc: 0.7890\n",
      "Epoch 2/4\n",
      " 19/782 [..............................] - ETA: 34s - loss: 0.2479 - acc: 0.9046"
     ]
    }
   ],
   "source": [
    "m=Sequential()\n",
    "m.add(Embedding(총단어수,임배딩길이,input_length=최고문장길이))\n",
    "m.add(LSTM(뉴런수,dropout=d_out,return_sequences=True))\n",
    "m.add(LSTM(뉴런수,dropout=d_out))\n",
    "m.add(Dense(1,activation='sigmoid'))\n",
    "m.compile(optimizer=Adam(lr),\n",
    "         loss=tf.losses.BinaryCrossentropy(),\n",
    "         metrics=['acc']\n",
    "         )\n",
    "m.fit(t_x,t_y,epochs=ec,validation_data=(tt_x,tt_y),validation_freq=2)"
   ]
  }
 ],
 "metadata": {
  "kernelspec": {
   "display_name": "Python 3 (ipykernel)",
   "language": "python",
   "name": "python3"
  },
  "language_info": {
   "codemirror_mode": {
    "name": "ipython",
    "version": 3
   },
   "file_extension": ".py",
   "mimetype": "text/x-python",
   "name": "python",
   "nbconvert_exporter": "python",
   "pygments_lexer": "ipython3",
   "version": "3.9.7"
  }
 },
 "nbformat": 4,
 "nbformat_minor": 5
}
