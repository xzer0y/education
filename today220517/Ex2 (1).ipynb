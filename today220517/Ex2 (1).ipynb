{
 "cells": [
  {
   "cell_type": "code",
   "execution_count": 9,
   "id": "a4589bb8",
   "metadata": {
    "scrolled": true
   },
   "outputs": [],
   "source": [
    "import tensorflow as tf\n",
    "import numpy as np\n",
    "from tensorflow.keras.layers import Dropout,Dense, Embedding,SimpleRNN,LSTM,Bidirectional\n",
    "from tensorflow.keras import layers\n",
    "from tensorflow.keras.models import Sequential\n",
    "from tensorflow.keras.optimizers import Adam\n",
    "from tensorflow.keras.datasets.imdb import load_data\n",
    "tf.random.set_seed(22)\n",
    "np.random.seed(22)"
   ]
  },
  {
   "cell_type": "code",
   "execution_count": 2,
   "id": "b539b577",
   "metadata": {},
   "outputs": [
    {
     "name": "stderr",
     "output_type": "stream",
     "text": [
      "<__array_function__ internals>:5: VisibleDeprecationWarning: Creating an ndarray from ragged nested sequences (which is a list-or-tuple of lists-or-tuples-or ndarrays with different lengths or shapes) is deprecated. If you meant to do this, you must specify 'dtype=object' when creating the ndarray\n",
      "C:\\ProgramData\\Anaconda3\\lib\\site-packages\\tensorflow\\python\\keras\\datasets\\imdb.py:155: VisibleDeprecationWarning: Creating an ndarray from ragged nested sequences (which is a list-or-tuple of lists-or-tuples-or ndarrays with different lengths or shapes) is deprecated. If you meant to do this, you must specify 'dtype=object' when creating the ndarray\n",
      "  x_train, y_train = np.array(xs[:idx]), np.array(labels[:idx])\n",
      "C:\\ProgramData\\Anaconda3\\lib\\site-packages\\tensorflow\\python\\keras\\datasets\\imdb.py:156: VisibleDeprecationWarning: Creating an ndarray from ragged nested sequences (which is a list-or-tuple of lists-or-tuples-or ndarrays with different lengths or shapes) is deprecated. If you meant to do this, you must specify 'dtype=object' when creating the ndarray\n",
      "  x_test, y_test = np.array(xs[idx:]), np.array(labels[idx:])\n"
     ]
    }
   ],
   "source": [
    "(t_x,t_y),(tt_x,tt_y) = load_data(num_words=10000)\n",
    "t_x = tf.keras.preprocessing.sequence.pad_sequences(t_x,maxlen=80)\n",
    "tt_x =tf.keras.preprocessing.sequence.pad_sequences(tt_x,maxlen=80)"
   ]
  },
  {
   "cell_type": "code",
   "execution_count": 3,
   "id": "efe07366",
   "metadata": {},
   "outputs": [
    {
     "data": {
      "text/plain": [
       "((25000, 80), (25000,), (25000, 80), (25000,))"
      ]
     },
     "execution_count": 3,
     "metadata": {},
     "output_type": "execute_result"
    }
   ],
   "source": [
    "t_x.shape,t_y.shape,tt_x.shape,tt_y.shape"
   ]
  },
  {
   "cell_type": "markdown",
   "id": "4f7ab78c",
   "metadata": {},
   "source": [
    "#Embedding(단어수,피처차원)\n",
    "m=Sequential()\n",
    "m.add(Embedding(10000,100,input_length=80))\n",
    "m.add(SimpleRNNCell(64,dropout=0.5,return_sequences=True))\n",
    "m.add(SimpleRNNCell(64,dropout=0.5))\n",
    "m.add(Dense(1))\n",
    "tf.sigmoid()"
   ]
  },
  {
   "cell_type": "markdown",
   "id": "ec2de767",
   "metadata": {},
   "source": [
    "옵션작성 (하이퍼파라미터)"
   ]
  },
  {
   "cell_type": "code",
   "execution_count": 4,
   "id": "65ba5335",
   "metadata": {},
   "outputs": [],
   "source": [
    "배치크기=128\n",
    "총단어수=10000\n",
    "최고문장길이=80\n",
    "임배딩길이=100\n",
    "뉴런수=64\n",
    "d_out=0.5\n",
    "lr=0.001\n",
    "ec=4"
   ]
  },
  {
   "cell_type": "code",
   "execution_count": 5,
   "id": "0adcde5f",
   "metadata": {},
   "outputs": [
    {
     "name": "stdout",
     "output_type": "stream",
     "text": [
      "Epoch 1/4\n",
      "782/782 [==============================] - 20s 24ms/step - loss: 0.6396 - acc: 0.6051\n",
      "Epoch 2/4\n",
      "782/782 [==============================] - 21s 27ms/step - loss: 0.4505 - acc: 0.7964 - val_loss: 0.4180 - val_acc: 0.8119\n",
      "Epoch 3/4\n",
      "782/782 [==============================] - 18s 23ms/step - loss: 0.3782 - acc: 0.8423\n",
      "Epoch 4/4\n",
      "782/782 [==============================] - 21s 27ms/step - loss: 0.3240 - acc: 0.8707 - val_loss: 0.4085 - val_acc: 0.8270\n"
     ]
    },
    {
     "data": {
      "text/plain": [
       "<tensorflow.python.keras.callbacks.History at 0x1b42b7dd880>"
      ]
     },
     "execution_count": 5,
     "metadata": {},
     "output_type": "execute_result"
    }
   ],
   "source": [
    "m=Sequential()\n",
    "m.add(Embedding(총단어수,임배딩길이,input_length=최고문장길이))\n",
    "m.add(SimpleRNN(뉴런수,dropout=d_out,return_sequences=True))\n",
    "m.add(SimpleRNN(뉴런수,dropout=d_out))\n",
    "m.add(Dense(1,activation='sigmoid'))\n",
    "m.compile(optimizer=Adam(lr),\n",
    "         loss=tf.losses.BinaryCrossentropy(),\n",
    "         metrics=['acc']\n",
    "         )\n",
    "m.fit(t_x,t_y,epochs=ec,validation_data=(tt_x,tt_y),validation_freq=2)"
   ]
  },
  {
   "cell_type": "code",
   "execution_count": 6,
   "id": "aa413d32",
   "metadata": {
    "scrolled": false
   },
   "outputs": [
    {
     "name": "stdout",
     "output_type": "stream",
     "text": [
      "Epoch 1/4\n",
      "782/782 [==============================] - 36s 44ms/step - loss: 0.4354 - acc: 0.7890\n",
      "Epoch 2/4\n",
      "782/782 [==============================] - 44s 56ms/step - loss: 0.2917 - acc: 0.8789 - val_loss: 0.3726 - val_acc: 0.8356\n",
      "Epoch 3/4\n",
      "782/782 [==============================] - 34s 43ms/step - loss: 0.2332 - acc: 0.9061\n",
      "Epoch 4/4\n",
      "782/782 [==============================] - 43s 56ms/step - loss: 0.1877 - acc: 0.9270 - val_loss: 0.4136 - val_acc: 0.8350\n"
     ]
    },
    {
     "data": {
      "text/plain": [
       "<tensorflow.python.keras.callbacks.History at 0x1b42cacbee0>"
      ]
     },
     "execution_count": 6,
     "metadata": {},
     "output_type": "execute_result"
    }
   ],
   "source": [
    "m=Sequential()\n",
    "m.add(Embedding(총단어수,임배딩길이,input_length=최고문장길이))\n",
    "m.add(LSTM(뉴런수,dropout=d_out,return_sequences=True))\n",
    "m.add(LSTM(뉴런수,dropout=d_out))\n",
    "m.add(Dense(1,activation='sigmoid'))\n",
    "m.compile(optimizer=Adam(lr),\n",
    "         loss=tf.losses.BinaryCrossentropy(),\n",
    "         metrics=['acc']\n",
    "         )\n",
    "m.fit(t_x,t_y,epochs=ec,validation_data=(tt_x,tt_y),validation_freq=2)"
   ]
  },
  {
   "cell_type": "code",
   "execution_count": 7,
   "id": "879470e5",
   "metadata": {},
   "outputs": [
    {
     "name": "stdout",
     "output_type": "stream",
     "text": [
      "Epoch 1/4\n",
      "782/782 [==============================] - 33s 39ms/step - loss: 0.4522 - acc: 0.7778\n",
      "Epoch 2/4\n",
      "782/782 [==============================] - 36s 46ms/step - loss: 0.2965 - acc: 0.8780 - val_loss: 0.3687 - val_acc: 0.8362\n",
      "Epoch 3/4\n",
      "782/782 [==============================] - 30s 39ms/step - loss: 0.2331 - acc: 0.9084\n",
      "Epoch 4/4\n",
      "782/782 [==============================] - 36s 47ms/step - loss: 0.1841 - acc: 0.9308 - val_loss: 0.3910 - val_acc: 0.8404\n"
     ]
    },
    {
     "data": {
      "text/plain": [
       "<tensorflow.python.keras.callbacks.History at 0x1b42da36550>"
      ]
     },
     "execution_count": 7,
     "metadata": {},
     "output_type": "execute_result"
    }
   ],
   "source": [
    "m=Sequential()\n",
    "m.add(Embedding(총단어수,임배딩길이,input_length=최고문장길이))\n",
    "m.add(layers.GRU(뉴런수,dropout=d_out,return_sequences=True))\n",
    "m.add(layers.GRU(뉴런수,dropout=d_out))\n",
    "m.add(Dense(1,activation='sigmoid'))\n",
    "m.compile(optimizer=Adam(lr),\n",
    "         loss=tf.losses.BinaryCrossentropy(),\n",
    "         metrics=['acc']\n",
    "         )\n",
    "m.fit(t_x,t_y,epochs=ec,validation_data=(tt_x,tt_y),validation_freq=2)"
   ]
  },
  {
   "cell_type": "code",
   "execution_count": 10,
   "id": "0495652b",
   "metadata": {
    "scrolled": true
   },
   "outputs": [
    {
     "name": "stdout",
     "output_type": "stream",
     "text": [
      "Epoch 1/4\n",
      "782/782 [==============================] - 26s 31ms/step - loss: 0.4234 - acc: 0.7992\n",
      "Epoch 2/4\n",
      "782/782 [==============================] - 29s 38ms/step - loss: 0.2764 - acc: 0.8885 - val_loss: 0.3732 - val_acc: 0.8359\n",
      "Epoch 3/4\n",
      "782/782 [==============================] - 23s 30ms/step - loss: 0.1967 - acc: 0.9246\n",
      "Epoch 4/4\n",
      "782/782 [==============================] - 29s 38ms/step - loss: 0.1169 - acc: 0.9579 - val_loss: 0.4794 - val_acc: 0.8211\n"
     ]
    },
    {
     "data": {
      "text/plain": [
       "<tensorflow.python.keras.callbacks.History at 0x1b43891ac40>"
      ]
     },
     "execution_count": 10,
     "metadata": {},
     "output_type": "execute_result"
    }
   ],
   "source": [
    "m=Sequential()\n",
    "m.add(Embedding(총단어수,임배딩길이,input_length=최고문장길이))\n",
    "m.add(Bidirectional(LSTM(뉴런수)))\n",
    "m.add(Dropout(0.5))\n",
    "m.add(Dense(1,activation='sigmoid'))\n",
    "m.compile(optimizer=Adam(lr),\n",
    "         loss=tf.losses.BinaryCrossentropy(),\n",
    "         metrics=['acc']\n",
    "         )\n",
    "m.fit(t_x,t_y,epochs=ec,validation_data=(tt_x,tt_y),validation_freq=2)"
   ]
  },
  {
   "cell_type": "code",
   "execution_count": null,
   "id": "90e8a1c3",
   "metadata": {},
   "outputs": [],
   "source": [
    "m=Sequential()\n",
    "m.add(Embedding(총단어수,임배딩길이,input_length=최고문장길이))\n",
    "m.add(Bidirectional(LSTM(뉴런수,return_sequences=True)))\n",
    "m.add(Bidirectional(LSTM(뉴런수//2)))\n",
    "m.add(Dropout(0.5))\n",
    "m.add(Dense(1,activation='sigmoid'))\n",
    "m.compile(optimizer=Adam(lr),\n",
    "         loss=tf.losses.BinaryCrossentropy(),\n",
    "         metrics=['acc']\n",
    "         )\n",
    "m.fit(t_x,t_y,epochs=ec,validation_data=(tt_x,tt_y),validation_freq=2)"
   ]
  }
 ],
 "metadata": {
  "kernelspec": {
   "display_name": "Python 3 (ipykernel)",
   "language": "python",
   "name": "python3"
  },
  "language_info": {
   "codemirror_mode": {
    "name": "ipython",
    "version": 3
   },
   "file_extension": ".py",
   "mimetype": "text/x-python",
   "name": "python",
   "nbconvert_exporter": "python",
   "pygments_lexer": "ipython3",
   "version": "3.9.7"
  }
 },
 "nbformat": 4,
 "nbformat_minor": 5
}
