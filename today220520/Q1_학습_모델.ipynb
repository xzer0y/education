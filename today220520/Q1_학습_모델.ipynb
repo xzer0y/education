{
 "cells": [
  {
   "cell_type": "code",
   "execution_count": 1,
   "id": "df53d19f",
   "metadata": {},
   "outputs": [],
   "source": [
    "import re\n",
    "import numpy as np\n",
    "import pandas as pd\n",
    "from tqdm import tqdm\n",
    "from konlpy.tag import Okt\n",
    "import matplotlib.pyplot as plt\n",
    "from sklearn.preprocessing import LabelEncoder\n",
    "from tensorflow.keras.utils import to_categorical\n",
    "from tensorflow.keras.preprocessing.sequence import pad_sequences\n",
    "from tensorflow.keras.models import  Sequential,load_model\n",
    "from tensorflow.keras.layers import Dense, Dropout,Embedding, Dense, LSTM,BatchNormalization\n",
    "from tensorflow.keras.callbacks import EarlyStopping, ModelCheckpoint,TensorBoard"
   ]
  },
  {
   "cell_type": "code",
   "execution_count": 2,
   "id": "23ae73a9",
   "metadata": {
    "scrolled": true
   },
   "outputs": [],
   "source": [
    "import pickle\n",
    "with open(\"data.pickle\",\"rb\") as fr:\n",
    "    전처리_된_데이터 = pickle.load(fr)"
   ]
  },
  {
   "cell_type": "code",
   "execution_count": 3,
   "id": "a56fb98a",
   "metadata": {},
   "outputs": [],
   "source": [
    "train_inputs=전처리_된_데이터['학습_데이터']\n",
    "train_outputs=전처리_된_데이터['학습_결과']\n",
    "test_inputs=전처리_된_데이터['태스트_데이터']\n",
    "test_outputs=전처리_된_데이터['태스트_결과']\n",
    "val_inputs=전처리_된_데이터['검증_데이터']\n",
    "val_outputs=전처리_된_데이터['검증_결과']\n",
    "token=전처리_된_데이터['토큰']\n",
    "w_n=전처리_된_데이터['단어수']\n",
    "w_l=전처리_된_데이터['입력길이']"
   ]
  },
  {
   "cell_type": "code",
   "execution_count": 4,
   "id": "4a3d1e39",
   "metadata": {},
   "outputs": [],
   "source": [
    "es = EarlyStopping(monitor='val_loss', mode='min', verbose=1, patience=5,restore_best_weights=True)\n",
    "mc = ModelCheckpoint('best_model.h5', monitor='val_acc', mode='max', verbose=1, save_best_only=True)\n",
    "t_bd=TensorBoard(log_dir=\"logs\")"
   ]
  },
  {
   "cell_type": "code",
   "execution_count": 5,
   "id": "6b2bf2fa",
   "metadata": {},
   "outputs": [],
   "source": [
    "model = Sequential()\n",
    "model.add(Embedding(w_n, 128))\n",
    "model.add(BatchNormalization())\n",
    "model.add(LSTM(128,dropout=0.5,return_sequences=True))\n",
    "model.add(BatchNormalization())\n",
    "model.add(LSTM(256,dropout=0.5,return_sequences=True))\n",
    "model.add(BatchNormalization())\n",
    "model.add(LSTM(128,dropout=0.5))\n",
    "model.add(Dense(1, activation='sigmoid'))"
   ]
  },
  {
   "cell_type": "code",
   "execution_count": 6,
   "id": "190312f4",
   "metadata": {},
   "outputs": [
    {
     "name": "stdout",
     "output_type": "stream",
     "text": [
      "Epoch 1/15\n",
      "927/927 [==============================] - 192s 203ms/step - loss: 0.5457 - acc: 0.7169 - val_loss: 0.4776 - val_acc: 0.7775\n",
      "\n",
      "Epoch 00001: val_acc improved from -inf to 0.77754, saving model to best_model.h5\n",
      "Epoch 2/15\n",
      "927/927 [==============================] - 191s 206ms/step - loss: 0.4263 - acc: 0.8061 - val_loss: 0.4553 - val_acc: 0.7875\n",
      "\n",
      "Epoch 00002: val_acc improved from 0.77754 to 0.78748, saving model to best_model.h5\n",
      "Epoch 3/15\n",
      "927/927 [==============================] - 186s 201ms/step - loss: 0.3734 - acc: 0.8354 - val_loss: 0.4730 - val_acc: 0.7862\n",
      "\n",
      "Epoch 00003: val_acc did not improve from 0.78748\n",
      "Epoch 4/15\n",
      "927/927 [==============================] - 190s 205ms/step - loss: 0.3330 - acc: 0.8545 - val_loss: 0.5220 - val_acc: 0.7838\n",
      "\n",
      "Epoch 00004: val_acc did not improve from 0.78748\n",
      "Epoch 5/15\n",
      "927/927 [==============================] - 189s 204ms/step - loss: 0.3002 - acc: 0.8721 - val_loss: 0.5523 - val_acc: 0.7800\n",
      "\n",
      "Epoch 00005: val_acc did not improve from 0.78748\n",
      "Epoch 6/15\n",
      "927/927 [==============================] - 192s 207ms/step - loss: 0.2697 - acc: 0.8846 - val_loss: 0.6892 - val_acc: 0.7737\n",
      "\n",
      "Epoch 00006: val_acc did not improve from 0.78748\n",
      "Epoch 7/15\n",
      "927/927 [==============================] - 189s 204ms/step - loss: 0.2503 - acc: 0.8942 - val_loss: 0.6375 - val_acc: 0.7700\n",
      "Restoring model weights from the end of the best epoch.\n",
      "\n",
      "Epoch 00007: val_acc did not improve from 0.78748\n",
      "Epoch 00007: early stopping\n"
     ]
    }
   ],
   "source": [
    "model.compile(optimizer='adam', loss='binary_crossentropy', metrics=['acc'])\n",
    "history = model.fit(train_inputs, train_outputs, epochs=15, callbacks=[es, mc,t_bd], batch_size=60,validation_data=(val_inputs,val_outputs))"
   ]
  },
  {
   "cell_type": "code",
   "execution_count": 7,
   "id": "3670c7d6",
   "metadata": {},
   "outputs": [
    {
     "data": {
      "image/png": "[encoded data removed]",
      "text/plain": [
       "<Figure size 432x288 with 1 Axes>"
      ]
     },
     "metadata": {
      "needs_background": "light"
     },
     "output_type": "display_data"
    }
   ],
   "source": [
    "epochs = range(1, len(history.history['acc']) + 1)\n",
    "plt.plot(epochs, history.history['loss'])\n",
    "plt.plot(epochs, history.history['val_loss'])\n",
    "plt.title('m loss')\n",
    "plt.ylabel('loss')\n",
    "plt.xlabel('epoch')\n",
    "plt.legend(['train', 'test'], loc='upper left')\n",
    "plt.show()"
   ]
  },
  {
   "cell_type": "code",
   "execution_count": 8,
   "id": "a9dc59b7",
   "metadata": {},
   "outputs": [
    {
     "name": "stdout",
     "output_type": "stream",
     "text": [
      "930/930 [==============================] - 39s 42ms/step - loss: 0.4641 - acc: 0.7839\n"
     ]
    },
    {
     "data": {
      "text/plain": [
       "0.7839282155036926"
      ]
     },
     "execution_count": 8,
     "metadata": {},
     "output_type": "execute_result"
    }
   ],
   "source": [
    "model.evaluate(test_inputs,test_outputs)[1]"
   ]
  },
  {
   "cell_type": "code",
   "execution_count": 14,
   "id": "c948859e",
   "metadata": {},
   "outputs": [
    {
     "name": "stdout",
     "output_type": "stream",
     "text": [
      "The tensorboard extension is already loaded. To reload it, use:\n",
      "  %reload_ext tensorboard\n"
     ]
    },
    {
     "data": {
      "text/plain": [
       "Reusing TensorBoard on port 6006 (pid 13812), started 0:05:41 ago. (Use '!kill 13812' to kill it.)"
      ]
     },
     "metadata": {},
     "output_type": "display_data"
    },
    {
     "data": {
      "text/html": [
       "\n",
       "      <iframe id=\"tensorboard-frame-70100b11f7c65f65\" width=\"100%\" height=\"800\" frameborder=\"0\">\n",
       "      </iframe>\n",
       "      <script>\n",
       "        (function() {\n",
       "          const frame = document.getElementById(\"tensorboard-frame-70100b11f7c65f65\");\n",
       "          const url = new URL(\"/\", window.location);\n",
       "          const port = 6006;\n",
       "          if (port) {\n",
       "            url.port = port;\n",
       "          }\n",
       "          frame.src = url;\n",
       "        })();\n",
       "      </script>\n",
       "    "
      ],
      "text/plain": [
       "<IPython.core.display.HTML object>"
      ]
     },
     "metadata": {},
     "output_type": "display_data"
    }
   ],
   "source": [
    "%load_ext tensorboard\n",
    "%tensorboard --logdir logs"
   ]
  }
 ],
 "metadata": {
  "kernelspec": {
   "display_name": "Python 3 (ipykernel)",
   "language": "python",
   "name": "python3"
  },
  "language_info": {
   "codemirror_mode": {
    "name": "ipython",
    "version": 3
   },
   "file_extension": ".py",
   "mimetype": "text/x-python",
   "name": "python",
   "nbconvert_exporter": "python",
   "pygments_lexer": "ipython3",
   "version": "3.9.7"
  }
 },
 "nbformat": 4,
 "nbformat_minor": 5
}
