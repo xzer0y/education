{
 "cells": [
  {
   "cell_type": "code",
   "execution_count": 1,
   "id": "6b15973a",
   "metadata": {},
   "outputs": [],
   "source": [
    "from nltk.tokenize import sent_tokenize\n",
    "from nltk.tokenize import word_tokenize\n",
    "from nltk.corpus import stopwords"
   ]
  },
  {
   "cell_type": "markdown",
   "id": "7d6479fa",
   "metadata": {},
   "source": [
    "사전 기반  정수 인코딩"
   ]
  },
  {
   "cell_type": "markdown",
   "id": "b3819e70",
   "metadata": {},
   "source": [
    "데이터 수집"
   ]
  },
  {
   "cell_type": "code",
   "execution_count": 2,
   "id": "9744cf17",
   "metadata": {},
   "outputs": [],
   "source": [
    "text = \"A barber is a person. a barber is good person. a barber is huge person. he Knew A Secret! The Secret He Kept is huge secret. Huge secret. His barber kept his word. a barber kept his word. His barber kept his secret. But keeping and keeping such a huge secret to himself was driving the barber crazy. the barber went up a huge mountain.\""
   ]
  },
  {
   "cell_type": "markdown",
   "id": "dd15280d",
   "metadata": {},
   "source": [
    "데이터 전처리(문장 토큰화)"
   ]
  },
  {
   "cell_type": "code",
   "execution_count": 3,
   "id": "bd771e07",
   "metadata": {
    "scrolled": true
   },
   "outputs": [
    {
     "data": {
      "text/plain": [
       "['A barber is a person.',\n",
       " 'a barber is good person.',\n",
       " 'a barber is huge person.',\n",
       " 'he Knew A Secret!',\n",
       " 'The Secret He Kept is huge secret.',\n",
       " 'Huge secret.',\n",
       " 'His barber kept his word.',\n",
       " 'a barber kept his word.',\n",
       " 'His barber kept his secret.',\n",
       " 'But keeping and keeping such a huge secret to himself was driving the barber crazy.',\n",
       " 'the barber went up a huge mountain.']"
      ]
     },
     "execution_count": 3,
     "metadata": {},
     "output_type": "execute_result"
    }
   ],
   "source": [
    "문장_토큰화_리스트=sent_tokenize(text)\n",
    "문장_토큰화_리스트"
   ]
  },
  {
   "cell_type": "markdown",
   "id": "6c39c30b",
   "metadata": {},
   "source": [
    "데이터 전처리(단어 토큰화)"
   ]
  },
  {
   "cell_type": "code",
   "execution_count": 4,
   "id": "a4226a00",
   "metadata": {
    "scrolled": true
   },
   "outputs": [
    {
     "data": {
      "text/plain": [
       "[['barber', 'person'],\n",
       " ['barber', 'good', 'person'],\n",
       " ['barber', 'huge', 'person'],\n",
       " ['knew', 'secret'],\n",
       " ['secret', 'kept', 'huge', 'secret'],\n",
       " ['huge', 'secret'],\n",
       " ['barber', 'kept', 'word'],\n",
       " ['barber', 'kept', 'word'],\n",
       " ['barber', 'kept', 'secret'],\n",
       " ['keeping', 'keeping', 'huge', 'secret', 'driving', 'barber', 'crazy'],\n",
       " ['barber', 'went', 'huge', 'mountain']]"
      ]
     },
     "execution_count": 4,
     "metadata": {},
     "output_type": "execute_result"
    }
   ],
   "source": [
    "단어_모음={}\n",
    "pr_data=[]\n",
    "불용성단어 = set(stopwords.words('english'))\n",
    "for 문장 in 문장_토큰화_리스트:\n",
    "    단어_토큰화_리스트=word_tokenize(문장)#단어 토큰화\n",
    "    l=[]\n",
    "    for 단어 in 단어_토큰화_리스트:\n",
    "        소문자화_된_단어=단어.lower()\n",
    "        if 소문자화_된_단어 not in 불용성단어:\n",
    "            if len(소문자화_된_단어)>2:#단어수 2이하 제거\n",
    "                l.append(소문자화_된_단어)\n",
    "                if 소문자화_된_단어 not in 단어_모음:\n",
    "                    단어_모음[소문자화_된_단어]=0\n",
    "                단어_모음[소문자화_된_단어]+=1\n",
    "    pr_data.append(l)\n",
    "pr_data      "
   ]
  },
  {
   "cell_type": "code",
   "execution_count": 5,
   "id": "06583384",
   "metadata": {
    "scrolled": true
   },
   "outputs": [
    {
     "data": {
      "text/plain": [
       "{'barber': 8,\n",
       " 'person': 3,\n",
       " 'good': 1,\n",
       " 'huge': 5,\n",
       " 'knew': 1,\n",
       " 'secret': 6,\n",
       " 'kept': 4,\n",
       " 'word': 2,\n",
       " 'keeping': 2,\n",
       " 'driving': 1,\n",
       " 'crazy': 1,\n",
       " 'went': 1,\n",
       " 'mountain': 1}"
      ]
     },
     "execution_count": 5,
     "metadata": {},
     "output_type": "execute_result"
    }
   ],
   "source": [
    "단어_모음"
   ]
  },
  {
   "cell_type": "code",
   "execution_count": 6,
   "id": "67147a96",
   "metadata": {},
   "outputs": [
    {
     "data": {
      "text/plain": [
       "8"
      ]
     },
     "execution_count": 6,
     "metadata": {},
     "output_type": "execute_result"
    }
   ],
   "source": [
    "단어_모음['barber']"
   ]
  },
  {
   "cell_type": "code",
   "execution_count": 7,
   "id": "4ad64584",
   "metadata": {},
   "outputs": [
    {
     "data": {
      "text/plain": [
       "[('barber', 8),\n",
       " ('secret', 6),\n",
       " ('huge', 5),\n",
       " ('kept', 4),\n",
       " ('person', 3),\n",
       " ('word', 2),\n",
       " ('keeping', 2),\n",
       " ('good', 1),\n",
       " ('knew', 1),\n",
       " ('driving', 1),\n",
       " ('crazy', 1),\n",
       " ('went', 1),\n",
       " ('mountain', 1)]"
      ]
     },
     "execution_count": 7,
     "metadata": {},
     "output_type": "execute_result"
    }
   ],
   "source": [
    "정렬된_단어_모음=sorted(단어_모음.items(),key = lambda x:x[1],reverse=True)\n",
    "정렬된_단어_모음"
   ]
  },
  {
   "cell_type": "code",
   "execution_count": 8,
   "id": "d0da8a73",
   "metadata": {},
   "outputs": [
    {
     "data": {
      "text/plain": [
       "{'barber': 1,\n",
       " 'secret': 2,\n",
       " 'huge': 3,\n",
       " 'kept': 4,\n",
       " 'person': 5,\n",
       " 'word': 6,\n",
       " 'keeping': 7}"
      ]
     },
     "execution_count": 8,
     "metadata": {},
     "output_type": "execute_result"
    }
   ],
   "source": [
    "단어_인덱스={}\n",
    "i=0\n",
    "for (단어,빈도수) in 정렬된_단어_모음:\n",
    "    if 빈도수>1:#빈도수 1이하 제거\n",
    "        i+=1\n",
    "        단어_인덱스[단어]=i\n",
    "단어_인덱스        "
   ]
  },
  {
   "cell_type": "code",
   "execution_count": 9,
   "id": "df8b3294",
   "metadata": {
    "scrolled": true
   },
   "outputs": [
    {
     "data": {
      "text/plain": [
       "{'barber': 1, 'secret': 2, 'huge': 3, 'kept': 4}"
      ]
     },
     "execution_count": 9,
     "metadata": {},
     "output_type": "execute_result"
    }
   ],
   "source": [
    "n=4\n",
    "삭제_결정된_data=[단어 for 단어,i in 단어_인덱스.items() if i>n]\n",
    "for i in 삭제_결정된_data:\n",
    "    del 단어_인덱스[i]\n",
    "단어_인덱스"
   ]
  },
  {
   "cell_type": "code",
   "execution_count": 10,
   "id": "b3e1c7c7",
   "metadata": {},
   "outputs": [
    {
     "data": {
      "text/plain": [
       "{'barber': 1, 'secret': 2, 'huge': 3, 'kept': 4, 'OOV': 5}"
      ]
     },
     "execution_count": 10,
     "metadata": {},
     "output_type": "execute_result"
    }
   ],
   "source": [
    "단어_인덱스['OOV']=len(단어_인덱스)+1\n",
    "단어_인덱스"
   ]
  },
  {
   "cell_type": "code",
   "execution_count": 11,
   "id": "6c79c3ae",
   "metadata": {
    "scrolled": true
   },
   "outputs": [
    {
     "data": {
      "text/plain": [
       "[['barber', 'person'],\n",
       " ['barber', 'good', 'person'],\n",
       " ['barber', 'huge', 'person'],\n",
       " ['knew', 'secret'],\n",
       " ['secret', 'kept', 'huge', 'secret'],\n",
       " ['huge', 'secret'],\n",
       " ['barber', 'kept', 'word'],\n",
       " ['barber', 'kept', 'word'],\n",
       " ['barber', 'kept', 'secret'],\n",
       " ['keeping', 'keeping', 'huge', 'secret', 'driving', 'barber', 'crazy'],\n",
       " ['barber', 'went', 'huge', 'mountain']]"
      ]
     },
     "execution_count": 11,
     "metadata": {},
     "output_type": "execute_result"
    }
   ],
   "source": [
    "pr_data"
   ]
  },
  {
   "cell_type": "code",
   "execution_count": 12,
   "id": "83720bcd",
   "metadata": {
    "scrolled": true
   },
   "outputs": [
    {
     "data": {
      "text/plain": [
       "[[1, 5],\n",
       " [1, 5, 5],\n",
       " [1, 3, 5],\n",
       " [5, 2],\n",
       " [2, 4, 3, 2],\n",
       " [3, 2],\n",
       " [1, 4, 5],\n",
       " [1, 4, 5],\n",
       " [1, 4, 2],\n",
       " [5, 5, 3, 2, 5, 1, 5],\n",
       " [1, 5, 3, 5]]"
      ]
     },
     "execution_count": 12,
     "metadata": {},
     "output_type": "execute_result"
    }
   ],
   "source": [
    "ec_data=[]\n",
    "for i in pr_data:\n",
    "    ec_d=[]\n",
    "    for 단어 in i:\n",
    "        try:\n",
    "            ec_d.append(단어_인덱스[단어])\n",
    "        except KeyError:\n",
    "            ec_d.append(단어_인덱스['OOV'])\n",
    "    ec_data.append(ec_d)\n",
    "ec_data"
   ]
  },
  {
   "cell_type": "markdown",
   "id": "43690026",
   "metadata": {},
   "source": [
    "Counter기반 정수 인코딩"
   ]
  },
  {
   "cell_type": "code",
   "execution_count": 13,
   "id": "73e479d1",
   "metadata": {},
   "outputs": [],
   "source": [
    "from collections import Counter"
   ]
  },
  {
   "cell_type": "code",
   "execution_count": 14,
   "id": "32550da8",
   "metadata": {
    "scrolled": true
   },
   "outputs": [
    {
     "data": {
      "text/plain": [
       "[['barber', 'person'],\n",
       " ['barber', 'good', 'person'],\n",
       " ['barber', 'huge', 'person'],\n",
       " ['knew', 'secret'],\n",
       " ['secret', 'kept', 'huge', 'secret'],\n",
       " ['huge', 'secret'],\n",
       " ['barber', 'kept', 'word'],\n",
       " ['barber', 'kept', 'word'],\n",
       " ['barber', 'kept', 'secret'],\n",
       " ['keeping', 'keeping', 'huge', 'secret', 'driving', 'barber', 'crazy'],\n",
       " ['barber', 'went', 'huge', 'mountain']]"
      ]
     },
     "execution_count": 14,
     "metadata": {},
     "output_type": "execute_result"
    }
   ],
   "source": [
    "pr_data#텍스트->문장->단어"
   ]
  },
  {
   "cell_type": "code",
   "execution_count": 15,
   "id": "72dbc0df",
   "metadata": {
    "scrolled": true
   },
   "outputs": [
    {
     "data": {
      "text/plain": [
       "['barber',\n",
       " 'person',\n",
       " 'barber',\n",
       " 'good',\n",
       " 'person',\n",
       " 'barber',\n",
       " 'huge',\n",
       " 'person',\n",
       " 'knew',\n",
       " 'secret',\n",
       " 'secret',\n",
       " 'kept',\n",
       " 'huge',\n",
       " 'secret',\n",
       " 'huge',\n",
       " 'secret',\n",
       " 'barber',\n",
       " 'kept',\n",
       " 'word',\n",
       " 'barber',\n",
       " 'kept',\n",
       " 'word',\n",
       " 'barber',\n",
       " 'kept',\n",
       " 'secret',\n",
       " 'keeping',\n",
       " 'keeping',\n",
       " 'huge',\n",
       " 'secret',\n",
       " 'driving',\n",
       " 'barber',\n",
       " 'crazy',\n",
       " 'barber',\n",
       " 'went',\n",
       " 'huge',\n",
       " 'mountain']"
      ]
     },
     "execution_count": 15,
     "metadata": {},
     "output_type": "execute_result"
    }
   ],
   "source": [
    "단어_모음집=sum(pr_data,[])\n",
    "단어_모음집"
   ]
  },
  {
   "cell_type": "code",
   "execution_count": 16,
   "id": "48f6c774",
   "metadata": {},
   "outputs": [
    {
     "data": {
      "text/plain": [
       "Counter({'barber': 8,\n",
       "         'person': 3,\n",
       "         'good': 1,\n",
       "         'huge': 5,\n",
       "         'knew': 1,\n",
       "         'secret': 6,\n",
       "         'kept': 4,\n",
       "         'word': 2,\n",
       "         'keeping': 2,\n",
       "         'driving': 1,\n",
       "         'crazy': 1,\n",
       "         'went': 1,\n",
       "         'mountain': 1})"
      ]
     },
     "execution_count": 16,
     "metadata": {},
     "output_type": "execute_result"
    }
   ],
   "source": [
    "결과_단어_모음집=Counter(단어_모음집)\n",
    "결과_단어_모음집"
   ]
  },
  {
   "cell_type": "code",
   "execution_count": 17,
   "id": "26cdfce6",
   "metadata": {},
   "outputs": [
    {
     "data": {
      "text/plain": [
       "[('barber', 8), ('secret', 6), ('huge', 5), ('kept', 4)]"
      ]
     },
     "execution_count": 17,
     "metadata": {},
     "output_type": "execute_result"
    }
   ],
   "source": [
    "n=4\n",
    "빈도수별_단어=결과_단어_모음집.most_common(n)\n",
    "빈도수별_단어"
   ]
  },
  {
   "cell_type": "code",
   "execution_count": 18,
   "id": "3090f25c",
   "metadata": {},
   "outputs": [
    {
     "data": {
      "text/plain": [
       "{'barber': 1, 'secret': 2, 'huge': 3, 'kept': 4}"
      ]
     },
     "execution_count": 18,
     "metadata": {},
     "output_type": "execute_result"
    }
   ],
   "source": [
    "단어_인덱스2={}\n",
    "i=0\n",
    "for 단어,빈도수 in 빈도수별_단어:\n",
    "    i+=1\n",
    "    단어_인덱스2[단어]=i\n",
    "단어_인덱스2"
   ]
  },
  {
   "cell_type": "code",
   "execution_count": 19,
   "id": "4c357ae5",
   "metadata": {},
   "outputs": [
    {
     "data": {
      "text/plain": [
       "{'barber': 1, 'secret': 2, 'huge': 3, 'kept': 4, 'OOV': 5}"
      ]
     },
     "execution_count": 19,
     "metadata": {},
     "output_type": "execute_result"
    }
   ],
   "source": [
    "단어_인덱스2['OOV']=len(단어_인덱스2)+1\n",
    "단어_인덱스2"
   ]
  },
  {
   "cell_type": "code",
   "execution_count": 20,
   "id": "eb5b8768",
   "metadata": {},
   "outputs": [
    {
     "data": {
      "text/plain": [
       "[[1, 5],\n",
       " [1, 5, 5],\n",
       " [1, 3, 5],\n",
       " [5, 2],\n",
       " [2, 4, 3, 2],\n",
       " [3, 2],\n",
       " [1, 4, 5],\n",
       " [1, 4, 5],\n",
       " [1, 4, 2],\n",
       " [5, 5, 3, 2, 5, 1, 5],\n",
       " [1, 5, 3, 5]]"
      ]
     },
     "execution_count": 20,
     "metadata": {},
     "output_type": "execute_result"
    }
   ],
   "source": [
    "ec_data2=[]\n",
    "for i in pr_data:\n",
    "    ec_d2=[]\n",
    "    for 단어 in i:\n",
    "        try:\n",
    "            ec_d2.append(단어_인덱스2[단어])\n",
    "        except KeyError:\n",
    "            ec_d2.append(단어_인덱스2['OOV'])\n",
    "    ec_data2.append(ec_d2)\n",
    "ec_data2"
   ]
  },
  {
   "cell_type": "markdown",
   "id": "043607db",
   "metadata": {},
   "source": [
    "NLTk 정수인코딩"
   ]
  },
  {
   "cell_type": "code",
   "execution_count": 21,
   "id": "04d494ff",
   "metadata": {},
   "outputs": [],
   "source": [
    "from nltk import FreqDist\n",
    "import numpy as np"
   ]
  },
  {
   "cell_type": "code",
   "execution_count": 22,
   "id": "c5e947a7",
   "metadata": {},
   "outputs": [
    {
     "data": {
      "text/plain": [
       "[['barber', 'person'],\n",
       " ['barber', 'good', 'person'],\n",
       " ['barber', 'huge', 'person'],\n",
       " ['knew', 'secret'],\n",
       " ['secret', 'kept', 'huge', 'secret'],\n",
       " ['huge', 'secret'],\n",
       " ['barber', 'kept', 'word'],\n",
       " ['barber', 'kept', 'word'],\n",
       " ['barber', 'kept', 'secret'],\n",
       " ['keeping', 'keeping', 'huge', 'secret', 'driving', 'barber', 'crazy'],\n",
       " ['barber', 'went', 'huge', 'mountain']]"
      ]
     },
     "execution_count": 22,
     "metadata": {},
     "output_type": "execute_result"
    }
   ],
   "source": [
    "pr_data"
   ]
  },
  {
   "cell_type": "code",
   "execution_count": 23,
   "id": "1ee93a1e",
   "metadata": {
    "scrolled": false
   },
   "outputs": [
    {
     "data": {
      "text/plain": [
       "FreqDist({'barber': 8, 'secret': 6, 'huge': 5, 'kept': 4, 'person': 3, 'word': 2, 'keeping': 2, 'good': 1, 'knew': 1, 'driving': 1, ...})"
      ]
     },
     "execution_count": 23,
     "metadata": {},
     "output_type": "execute_result"
    }
   ],
   "source": [
    "단어_모음=FreqDist(np.hstack(pr_data))\n",
    "단어_모음"
   ]
  },
  {
   "cell_type": "code",
   "execution_count": 24,
   "id": "2b2f3a5c",
   "metadata": {},
   "outputs": [
    {
     "data": {
      "text/plain": [
       "[('barber', 8), ('secret', 6), ('huge', 5), ('kept', 4)]"
      ]
     },
     "execution_count": 24,
     "metadata": {},
     "output_type": "execute_result"
    }
   ],
   "source": [
    "단어_모음=단어_모음.most_common(4)\n",
    "단어_모음"
   ]
  },
  {
   "cell_type": "markdown",
   "id": "913d441c",
   "metadata": {},
   "source": [
    "케라스 이용 data 토큰화 및 정수 인코딩"
   ]
  },
  {
   "cell_type": "code",
   "execution_count": 25,
   "id": "2acd4101",
   "metadata": {
    "scrolled": true
   },
   "outputs": [
    {
     "data": {
      "text/plain": [
       "[['barber', 'person'],\n",
       " ['barber', 'good', 'person'],\n",
       " ['barber', 'huge', 'person'],\n",
       " ['knew', 'secret'],\n",
       " ['secret', 'kept', 'huge', 'secret'],\n",
       " ['huge', 'secret'],\n",
       " ['barber', 'kept', 'word'],\n",
       " ['barber', 'kept', 'word'],\n",
       " ['barber', 'kept', 'secret'],\n",
       " ['keeping', 'keeping', 'huge', 'secret', 'driving', 'barber', 'crazy'],\n",
       " ['barber', 'went', 'huge', 'mountain']]"
      ]
     },
     "execution_count": 25,
     "metadata": {},
     "output_type": "execute_result"
    }
   ],
   "source": [
    "from tensorflow.keras.preprocessing.text import Tokenizer\n",
    "pr_data"
   ]
  },
  {
   "cell_type": "code",
   "execution_count": 26,
   "id": "6f4f73df",
   "metadata": {
    "scrolled": true
   },
   "outputs": [
    {
     "data": {
      "text/plain": [
       "OrderedDict([('barber', 8),\n",
       "             ('person', 3),\n",
       "             ('good', 1),\n",
       "             ('huge', 5),\n",
       "             ('knew', 1),\n",
       "             ('secret', 6),\n",
       "             ('kept', 4),\n",
       "             ('word', 2),\n",
       "             ('keeping', 2),\n",
       "             ('driving', 1),\n",
       "             ('crazy', 1),\n",
       "             ('went', 1),\n",
       "             ('mountain', 1)])"
      ]
     },
     "execution_count": 26,
     "metadata": {},
     "output_type": "execute_result"
    }
   ],
   "source": [
    "ck_t=Tokenizer()\n",
    "ck_t.fit_on_texts(pr_data)\n",
    "ck_t.word_index\n",
    "ck_t.word_counts"
   ]
  },
  {
   "cell_type": "code",
   "execution_count": 27,
   "id": "0d63712d",
   "metadata": {
    "scrolled": true
   },
   "outputs": [
    {
     "data": {
      "text/plain": [
       "[[1, 5],\n",
       " [1, 8, 5],\n",
       " [1, 3, 5],\n",
       " [9, 2],\n",
       " [2, 4, 3, 2],\n",
       " [3, 2],\n",
       " [1, 4, 6],\n",
       " [1, 4, 6],\n",
       " [1, 4, 2],\n",
       " [7, 7, 3, 2, 10, 1, 11],\n",
       " [1, 12, 3, 13]]"
      ]
     },
     "execution_count": 27,
     "metadata": {},
     "output_type": "execute_result"
    }
   ],
   "source": [
    "ck_t.texts_to_sequences(pr_data)"
   ]
  },
  {
   "cell_type": "code",
   "execution_count": 28,
   "id": "0b09b98a",
   "metadata": {},
   "outputs": [
    {
     "data": {
      "text/plain": [
       "[[2, 1],\n",
       " [2, 1, 1],\n",
       " [2, 4, 1],\n",
       " [1, 3],\n",
       " [3, 5, 4, 3],\n",
       " [4, 3],\n",
       " [2, 5, 1],\n",
       " [2, 5, 1],\n",
       " [2, 5, 3],\n",
       " [1, 1, 4, 3, 1, 2, 1],\n",
       " [2, 1, 4, 1]]"
      ]
     },
     "execution_count": 28,
     "metadata": {},
     "output_type": "execute_result"
    }
   ],
   "source": [
    "n=4\n",
    "end_ck=Tokenizer(num_words=n+2,oov_token='OOV')\n",
    "end_ck.fit_on_texts(pr_data)\n",
    "end_ck.texts_to_sequences(pr_data)"
   ]
  }
 ],
 "metadata": {
  "kernelspec": {
   "display_name": "Python 3 (ipykernel)",
   "language": "python",
   "name": "python3"
  },
  "language_info": {
   "codemirror_mode": {
    "name": "ipython",
    "version": 3
   },
   "file_extension": ".py",
   "mimetype": "text/x-python",
   "name": "python",
   "nbconvert_exporter": "python",
   "pygments_lexer": "ipython3",
   "version": "3.9.7"
  }
 },
 "nbformat": 4,
 "nbformat_minor": 5
}
