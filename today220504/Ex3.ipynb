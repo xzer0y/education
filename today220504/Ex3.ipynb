{
 "cells": [
  {
   "cell_type": "code",
   "execution_count": 1,
   "id": "a8db029e",
   "metadata": {},
   "outputs": [],
   "source": [
    "import re"
   ]
  },
  {
   "cell_type": "markdown",
   "id": "5bc008e5",
   "metadata": {},
   "source": [
    ".기호-(단어 1개)"
   ]
  },
  {
   "cell_type": "code",
   "execution_count": 2,
   "id": "71e65f14",
   "metadata": {},
   "outputs": [],
   "source": [
    "r=re.compile('d.t')\n",
    "r.search('ggg')"
   ]
  },
  {
   "cell_type": "code",
   "execution_count": 3,
   "id": "c50efccc",
   "metadata": {},
   "outputs": [
    {
     "data": {
      "text/plain": [
       "<re.Match object; span=(1, 4), match='dat'>"
      ]
     },
     "execution_count": 3,
     "metadata": {},
     "output_type": "execute_result"
    }
   ],
   "source": [
    "r.search('adatasadatd')"
   ]
  },
  {
   "cell_type": "markdown",
   "id": "58b90ea4",
   "metadata": {},
   "source": [
    " ? 기호-(입력 이후 중간 문자의 유무 상관 없이 끝문자가 나오면 인식 된다)"
   ]
  },
  {
   "cell_type": "code",
   "execution_count": 4,
   "id": "06a4f805",
   "metadata": {},
   "outputs": [],
   "source": [
    "r=re.compile('dsa?t')\n",
    "r.search('ggg')"
   ]
  },
  {
   "cell_type": "code",
   "execution_count": 22,
   "id": "195614fd",
   "metadata": {},
   "outputs": [],
   "source": [
    "r.search('asdasasasasdat')"
   ]
  },
  {
   "cell_type": "code",
   "execution_count": 15,
   "id": "93cf46b4",
   "metadata": {},
   "outputs": [],
   "source": [
    "r.search('at')"
   ]
  },
  {
   "cell_type": "markdown",
   "id": "56f853cb",
   "metadata": {},
   "source": [
    "*기호-(연결된 문자의 중복 갯수 상관없이 인식)갯수0시작가능"
   ]
  },
  {
   "cell_type": "code",
   "execution_count": 30,
   "id": "9d7ef863",
   "metadata": {},
   "outputs": [
    {
     "data": {
      "text/plain": [
       "<re.Match object; span=(0, 2), match='ac'>"
      ]
     },
     "execution_count": 30,
     "metadata": {},
     "output_type": "execute_result"
    }
   ],
   "source": [
    "r=re.compile('ab*c')\n",
    "r.search('ac')"
   ]
  },
  {
   "cell_type": "markdown",
   "id": "cdb14cef",
   "metadata": {},
   "source": [
    "+기호-(연결된 문자의 중복 갯수 상관없이 인식)갯수1이상만 가능"
   ]
  },
  {
   "cell_type": "code",
   "execution_count": 33,
   "id": "9eb184d7",
   "metadata": {
    "scrolled": true
   },
   "outputs": [
    {
     "data": {
      "text/plain": [
       "<re.Match object; span=(0, 3), match='abc'>"
      ]
     },
     "execution_count": 33,
     "metadata": {},
     "output_type": "execute_result"
    }
   ],
   "source": [
    "r=re.compile('ab+c')\n",
    "r.search('abc')"
   ]
  },
  {
   "cell_type": "markdown",
   "id": "1fc1da62",
   "metadata": {},
   "source": [
    "^기호- 이후 문자열로 시작되는 문자열 인식"
   ]
  },
  {
   "cell_type": "code",
   "execution_count": 37,
   "id": "48bf5940",
   "metadata": {},
   "outputs": [
    {
     "data": {
      "text/plain": [
       "<re.Match object; span=(0, 2), match='ab'>"
      ]
     },
     "execution_count": 37,
     "metadata": {},
     "output_type": "execute_result"
    }
   ],
   "source": [
    "r=re.compile('^ab')\n",
    "r.search('abcㅁㄴㅇㅁㄴㅇㄴㅁㅇㅁㄴㅇㅁ')"
   ]
  },
  {
   "cell_type": "markdown",
   "id": "851623d8",
   "metadata": {},
   "source": [
    "{숫자}기호 - 기호 앞에 있는 단어의 갯수가 기호 안의 숫자만큼 있을 때 인식"
   ]
  },
  {
   "cell_type": "code",
   "execution_count": 46,
   "id": "48a1233e",
   "metadata": {
    "scrolled": true
   },
   "outputs": [
    {
     "data": {
      "text/plain": [
       "<re.Match object; span=(0, 4), match='abbc'>"
      ]
     },
     "execution_count": 46,
     "metadata": {},
     "output_type": "execute_result"
    }
   ],
   "source": [
    "r=re.compile('ab{2}c')\n",
    "r.search('abbc')"
   ]
  },
  {
   "cell_type": "markdown",
   "id": "4c8905f4",
   "metadata": {},
   "source": [
    "{숫자,숫자} 기호 - 기호 앞에 있는 단어의 갯수가 기호 안의 숫자범위 만큼 있을 때 인식"
   ]
  },
  {
   "cell_type": "code",
   "execution_count": 54,
   "id": "2061abde",
   "metadata": {},
   "outputs": [],
   "source": [
    "r=re.compile('ab{2,5}c')\n",
    "r.search('abbbbbbc')"
   ]
  },
  {
   "cell_type": "markdown",
   "id": "72fbd56b",
   "metadata": {},
   "source": [
    "{숫자,} 기호 ㅡ 슬라이싱 생각하면 된다."
   ]
  },
  {
   "cell_type": "code",
   "execution_count": 60,
   "id": "d901c93a",
   "metadata": {
    "scrolled": true
   },
   "outputs": [
    {
     "data": {
      "text/plain": [
       "<re.Match object; span=(0, 2), match='ac'>"
      ]
     },
     "execution_count": 60,
     "metadata": {},
     "output_type": "execute_result"
    }
   ],
   "source": [
    "r=re.compile('ab{,2}c')\n",
    "r.search('abbc')"
   ]
  },
  {
   "cell_type": "markdown",
   "id": "0b4a780d",
   "metadata": {},
   "source": [
    "[]기호- 괄호 안에 있는 문자의 유무,[-]"
   ]
  },
  {
   "cell_type": "code",
   "execution_count": 64,
   "id": "3740bb72",
   "metadata": {},
   "outputs": [
    {
     "data": {
      "text/plain": [
       "<re.Match object; span=(1, 2), match='c'>"
      ]
     },
     "execution_count": 64,
     "metadata": {},
     "output_type": "execute_result"
    }
   ],
   "source": [
    "r=re.compile('[abc]')\n",
    "r.search('dcba')"
   ]
  },
  {
   "cell_type": "code",
   "execution_count": 69,
   "id": "a6801d60",
   "metadata": {
    "scrolled": false
   },
   "outputs": [
    {
     "data": {
      "text/plain": [
       "<re.Match object; span=(0, 1), match='y'>"
      ]
     },
     "execution_count": 69,
     "metadata": {},
     "output_type": "execute_result"
    }
   ],
   "source": [
    "r=re.compile('[a-z]')\n",
    "r.search('y')"
   ]
  },
  {
   "cell_type": "markdown",
   "id": "bb7ee50a",
   "metadata": {},
   "source": [
    "[^] 기호- 내부에 없는 data 인식"
   ]
  },
  {
   "cell_type": "code",
   "execution_count": 75,
   "id": "240fa32c",
   "metadata": {
    "scrolled": true
   },
   "outputs": [
    {
     "data": {
      "text/plain": [
       "<re.Match object; span=(0, 1), match='Y'>"
      ]
     },
     "execution_count": 75,
     "metadata": {},
     "output_type": "execute_result"
    }
   ],
   "source": [
    "r=re.compile('[^a-z]')\n",
    "r.search('Y')"
   ]
  },
  {
   "cell_type": "markdown",
   "id": "5188cb3d",
   "metadata": {},
   "source": [
    "함수"
   ]
  },
  {
   "cell_type": "code",
   "execution_count": 77,
   "id": "7cca3acb",
   "metadata": {},
   "outputs": [
    {
     "data": {
      "text/plain": [
       "<re.Match object; span=(7, 10), match='aac'>"
      ]
     },
     "execution_count": 77,
     "metadata": {},
     "output_type": "execute_result"
    }
   ],
   "source": [
    "r=re.compile('a.c')#조건 설정\n",
    "r.search('data0- aac')#만족하기만 하면 인식"
   ]
  },
  {
   "cell_type": "code",
   "execution_count": 79,
   "id": "6f5e1739",
   "metadata": {},
   "outputs": [
    {
     "data": {
      "text/plain": [
       "<re.Match object; span=(0, 3), match='aac'>"
      ]
     },
     "execution_count": 79,
     "metadata": {},
     "output_type": "execute_result"
    }
   ],
   "source": [
    "r.match('aac')#시작부터 확인후 인식(^)"
   ]
  },
  {
   "cell_type": "code",
   "execution_count": 80,
   "id": "0abc2bd1",
   "metadata": {},
   "outputs": [
    {
     "data": {
      "text/plain": [
       "['data1', 'data2', 'data3']"
      ]
     },
     "execution_count": 80,
     "metadata": {},
     "output_type": "execute_result"
    }
   ],
   "source": [
    "data='data1 data2 data3'\n",
    "re.split(' ',data)#자르기(조건 ,data)"
   ]
  },
  {
   "cell_type": "code",
   "execution_count": 91,
   "id": "4796b51f",
   "metadata": {},
   "outputs": [
    {
     "data": {
      "text/plain": [
       "[' ', ' ']"
      ]
     },
     "execution_count": 91,
     "metadata": {},
     "output_type": "execute_result"
    }
   ],
   "source": [
    "re.findall('\\w+',data)"
   ]
  },
  {
   "cell_type": "code",
   "execution_count": 94,
   "id": "e69bd20c",
   "metadata": {
    "scrolled": true
   },
   "outputs": [
    {
     "data": {
      "text/plain": [
       "'data1수정data2수정data3'"
      ]
     },
     "execution_count": 94,
     "metadata": {},
     "output_type": "execute_result"
    }
   ],
   "source": [
    "re.sub('\\W+',\"수정\",data)"
   ]
  },
  {
   "cell_type": "code",
   "execution_count": 96,
   "id": "7c9b302b",
   "metadata": {},
   "outputs": [],
   "source": [
    "t=\"Don't be fooled by the dark sounding name, Mr. Jone's Orphanage is as cheery as cheery goes for a pastry shop.\""
   ]
  },
  {
   "cell_type": "code",
   "execution_count": 97,
   "id": "1fd0ba91",
   "metadata": {
    "scrolled": true
   },
   "outputs": [
    {
     "data": {
      "text/plain": [
       "['Don',\n",
       " 't',\n",
       " 'be',\n",
       " 'fooled',\n",
       " 'by',\n",
       " 'the',\n",
       " 'dark',\n",
       " 'sounding',\n",
       " 'name',\n",
       " 'Mr',\n",
       " 'Jone',\n",
       " 's',\n",
       " 'Orphanage',\n",
       " 'is',\n",
       " 'as',\n",
       " 'cheery',\n",
       " 'as',\n",
       " 'cheery',\n",
       " 'goes',\n",
       " 'for',\n",
       " 'a',\n",
       " 'pastry',\n",
       " 'shop']"
      ]
     },
     "execution_count": 97,
     "metadata": {},
     "output_type": "execute_result"
    }
   ],
   "source": [
    "from nltk.tokenize import RegexpTokenizer\n",
    "ck1=RegexpTokenizer('[\\w]+')\n",
    "ck1.tokenize(t)"
   ]
  },
  {
   "cell_type": "code",
   "execution_count": 106,
   "id": "ba654dcb",
   "metadata": {},
   "outputs": [
    {
     "data": {
      "text/plain": [
       "[' ',\n",
       " ' ',\n",
       " ' ',\n",
       " ' ',\n",
       " ' ',\n",
       " ' ',\n",
       " ' ',\n",
       " ' ',\n",
       " ' ',\n",
       " ' ',\n",
       " ' ',\n",
       " ' ',\n",
       " ' ',\n",
       " ' ',\n",
       " ' ',\n",
       " ' ',\n",
       " ' ',\n",
       " ' ',\n",
       " ' ',\n",
       " ' ']"
      ]
     },
     "execution_count": 106,
     "metadata": {},
     "output_type": "execute_result"
    }
   ],
   "source": [
    "ck2=RegexpTokenizer('\\s+',gaps=True)\n",
    "ck2.tokenize(t)"
   ]
  }
 ],
 "metadata": {
  "kernelspec": {
   "display_name": "Python 3 (ipykernel)",
   "language": "python",
   "name": "python3"
  },
  "language_info": {
   "codemirror_mode": {
    "name": "ipython",
    "version": 3
   },
   "file_extension": ".py",
   "mimetype": "text/x-python",
   "name": "python",
   "nbconvert_exporter": "python",
   "pygments_lexer": "ipython3",
   "version": "3.9.7"
  }
 },
 "nbformat": 4,
 "nbformat_minor": 5
}
