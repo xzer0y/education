{
 "cells": [
  {
   "cell_type": "code",
   "execution_count": 1,
   "id": "02de1348",
   "metadata": {},
   "outputs": [
    {
     "data": {
      "text/plain": [
       "{1, 2, 3, 4, 5, 6, 7}"
      ]
     },
     "execution_count": 1,
     "metadata": {},
     "output_type": "execute_result"
    }
   ],
   "source": [
    "A=set([1,2,3,4,5])\n",
    "B=set([4,5,6,7])\n",
    "A | B"
   ]
  },
  {
   "cell_type": "code",
   "execution_count": 2,
   "id": "009176b6",
   "metadata": {},
   "outputs": [
    {
     "data": {
      "text/plain": [
       "{4, 5}"
      ]
     },
     "execution_count": 2,
     "metadata": {},
     "output_type": "execute_result"
    }
   ],
   "source": [
    "A & B"
   ]
  },
  {
   "cell_type": "code",
   "execution_count": 3,
   "id": "f7046133",
   "metadata": {},
   "outputs": [],
   "source": [
    "data1 = '안녕 나는 오늘 힘들어'.split()\n",
    "data2 = '안녕 못해 나는 지금 너무 힘들어'.split()"
   ]
  },
  {
   "cell_type": "code",
   "execution_count": 4,
   "id": "5378faa8",
   "metadata": {},
   "outputs": [
    {
     "data": {
      "text/plain": [
       "{'나는', '너무', '못해', '안녕', '오늘', '지금', '힘들어'}"
      ]
     },
     "execution_count": 4,
     "metadata": {},
     "output_type": "execute_result"
    }
   ],
   "source": [
    "un=set(data1) | set(data2)\n",
    "un"
   ]
  },
  {
   "cell_type": "code",
   "execution_count": 5,
   "id": "14086123",
   "metadata": {
    "scrolled": false
   },
   "outputs": [
    {
     "data": {
      "text/plain": [
       "{'나는', '안녕', '힘들어'}"
      ]
     },
     "execution_count": 5,
     "metadata": {},
     "output_type": "execute_result"
    }
   ],
   "source": [
    "intd=set(data1) & set(data2)\n",
    "intd"
   ]
  },
  {
   "cell_type": "code",
   "execution_count": 6,
   "id": "ec0d562c",
   "metadata": {
    "scrolled": true
   },
   "outputs": [
    {
     "data": {
      "text/plain": [
       "0.42857142857142855"
      ]
     },
     "execution_count": 6,
     "metadata": {},
     "output_type": "execute_result"
    }
   ],
   "source": [
    "len(intd)/len(un)"
   ]
  },
  {
   "cell_type": "code",
   "execution_count": 7,
   "id": "8656ab10",
   "metadata": {},
   "outputs": [],
   "source": [
    "data1 = '안녕 나는 오늘 힘들어.'\n",
    "data2 = '안녕 못해 나는 지금 너무 힘들어'"
   ]
  },
  {
   "cell_type": "code",
   "execution_count": 8,
   "id": "5ef01a72",
   "metadata": {},
   "outputs": [
    {
     "data": {
      "text/plain": [
       "array([[0.44832087, 0.        , 0.        , 0.44832087, 0.63009934,\n",
       "        0.        , 0.44832087],\n",
       "       [0.33471228, 0.47042643, 0.47042643, 0.33471228, 0.        ,\n",
       "        0.47042643, 0.33471228]])"
      ]
     },
     "execution_count": 8,
     "metadata": {},
     "output_type": "execute_result"
    }
   ],
   "source": [
    "from sklearn.feature_extraction.text import TfidfVectorizer\n",
    "t_v=TfidfVectorizer()\n",
    "m_data=t_v.fit_transform([data1,data2])\n",
    "m_data.toarray()"
   ]
  },
  {
   "cell_type": "code",
   "execution_count": 9,
   "id": "d01e1ea8",
   "metadata": {},
   "outputs": [
    {
     "data": {
      "text/plain": [
       "{'안녕': 3, '나는': 0, '오늘': 4, '힘들어': 6, '못해': 2, '지금': 5, '너무': 1}"
      ]
     },
     "execution_count": 9,
     "metadata": {},
     "output_type": "execute_result"
    }
   ],
   "source": [
    "t_v.vocabulary_"
   ]
  },
  {
   "cell_type": "code",
   "execution_count": 10,
   "id": "fcd2df73",
   "metadata": {
    "scrolled": false
   },
   "outputs": [
    {
     "data": {
      "text/plain": [
       "array([1.        , 1.40546511, 1.40546511, 1.        , 1.40546511,\n",
       "       1.40546511, 1.        ])"
      ]
     },
     "execution_count": 10,
     "metadata": {},
     "output_type": "execute_result"
    }
   ],
   "source": [
    "idf=t_v.idf_\n",
    "idf"
   ]
  },
  {
   "cell_type": "code",
   "execution_count": 11,
   "id": "823bf716",
   "metadata": {},
   "outputs": [
    {
     "data": {
      "text/plain": [
       "array([[0.44832087, 0.        , 0.        , 0.44832087, 0.63009934,\n",
       "        0.        , 0.44832087]])"
      ]
     },
     "execution_count": 11,
     "metadata": {},
     "output_type": "execute_result"
    }
   ],
   "source": [
    "m_data[0:1].toarray()"
   ]
  },
  {
   "cell_type": "code",
   "execution_count": 12,
   "id": "a1e63f82",
   "metadata": {},
   "outputs": [
    {
     "data": {
      "text/plain": [
       "array([0.33333333, 0.5       , 0.        ])"
      ]
     },
     "execution_count": 12,
     "metadata": {},
     "output_type": "execute_result"
    }
   ],
   "source": [
    "from sklearn.metrics import jaccard_score\n",
    "import numpy as np\n",
    "#jaccard_score(m_data[0:1],m_data[1:2])\n",
    "jaccard_score(np.array([0,1,0,0]),np.array([0,1,1,2]),average=None)"
   ]
  },
  {
   "cell_type": "code",
   "execution_count": 13,
   "id": "6082dd31",
   "metadata": {},
   "outputs": [],
   "source": [
    "def f(A,B):\n",
    "    return np.sqrt(np.sum((A-B)**2))"
   ]
  },
  {
   "cell_type": "code",
   "execution_count": 14,
   "id": "5bea4381",
   "metadata": {},
   "outputs": [
    {
     "data": {
      "text/plain": [
       "2.23606797749979"
      ]
     },
     "execution_count": 14,
     "metadata": {},
     "output_type": "execute_result"
    }
   ],
   "source": [
    "A=np.array([0,1,2,3,4])\n",
    "B=np.array([1,0,1,2,3])\n",
    "f(A,B)"
   ]
  },
  {
   "cell_type": "code",
   "execution_count": 15,
   "id": "c40efddf",
   "metadata": {},
   "outputs": [
    {
     "data": {
      "text/plain": [
       "array([[1.0486415]])"
      ]
     },
     "execution_count": 15,
     "metadata": {},
     "output_type": "execute_result"
    }
   ],
   "source": [
    "from sklearn.metrics import euclidean_distances\n",
    "euclidean_distances(m_data[0:1],m_data[1:2])"
   ]
  },
  {
   "cell_type": "code",
   "execution_count": 16,
   "id": "71269e89",
   "metadata": {
    "scrolled": true
   },
   "outputs": [
    {
     "data": {
      "text/plain": [
       "array([[0.44832087, 0.        , 0.        , 0.44832087, 0.63009934,\n",
       "        0.        , 0.44832087],\n",
       "       [0.33471228, 0.47042643, 0.47042643, 0.33471228, 0.        ,\n",
       "        0.47042643, 0.33471228]])"
      ]
     },
     "execution_count": 16,
     "metadata": {},
     "output_type": "execute_result"
    }
   ],
   "source": [
    "m_data.toarray()"
   ]
  },
  {
   "cell_type": "code",
   "execution_count": 17,
   "id": "428d6cbc",
   "metadata": {},
   "outputs": [],
   "source": [
    "#정규화\n",
    "def e_f(m):\n",
    "    return m/np.sum(m)\n",
    "e_data = e_f(m_data)"
   ]
  },
  {
   "cell_type": "code",
   "execution_count": 18,
   "id": "c8d82e32",
   "metadata": {},
   "outputs": [
    {
     "data": {
      "text/plain": [
       "array([[0.23884449]])"
      ]
     },
     "execution_count": 18,
     "metadata": {},
     "output_type": "execute_result"
    }
   ],
   "source": [
    "euclidean_distances(e_data[0:1],e_data[1:2])"
   ]
  },
  {
   "cell_type": "code",
   "execution_count": 19,
   "id": "73091ade",
   "metadata": {
    "scrolled": true
   },
   "outputs": [
    {
     "data": {
      "text/plain": [
       "1"
      ]
     },
     "execution_count": 19,
     "metadata": {},
     "output_type": "execute_result"
    }
   ],
   "source": [
    "a=np.array([-1,2,3])\n",
    "b=np.array([1,3,-4])\n",
    "abs(1)#절대값연산 함수"
   ]
  },
  {
   "cell_type": "code",
   "execution_count": 20,
   "id": "5d2e2e9d",
   "metadata": {
    "scrolled": true
   },
   "outputs": [
    {
     "data": {
      "text/plain": [
       "10"
      ]
     },
     "execution_count": 20,
     "metadata": {},
     "output_type": "execute_result"
    }
   ],
   "source": [
    "np.sum(abs(a-b))"
   ]
  },
  {
   "cell_type": "code",
   "execution_count": 21,
   "id": "d50045a2",
   "metadata": {},
   "outputs": [],
   "source": [
    "def f(A,B):\n",
    "    return np.sum(abs((A-B)))"
   ]
  },
  {
   "cell_type": "code",
   "execution_count": 22,
   "id": "6e6174bf",
   "metadata": {},
   "outputs": [
    {
     "data": {
      "text/plain": [
       "5"
      ]
     },
     "execution_count": 22,
     "metadata": {},
     "output_type": "execute_result"
    }
   ],
   "source": [
    "A=np.array([0,1,2,3,4])\n",
    "B=np.array([1,0,1,2,3])\n",
    "f(A,B)"
   ]
  },
  {
   "cell_type": "markdown",
   "id": "72028f8a",
   "metadata": {},
   "source": [
    "유클리더 거리 유사도 확인"
   ]
  },
  {
   "cell_type": "code",
   "execution_count": 23,
   "id": "2c3069cf",
   "metadata": {},
   "outputs": [
    {
     "data": {
      "text/plain": [
       "array([[1.0486415]])"
      ]
     },
     "execution_count": 23,
     "metadata": {},
     "output_type": "execute_result"
    }
   ],
   "source": [
    "from sklearn.metrics import euclidean_distances\n",
    "euclidean_distances(m_data[0:1],m_data[1:2])"
   ]
  },
  {
   "cell_type": "markdown",
   "id": "cf0a575a",
   "metadata": {},
   "source": [
    "맨하탄 거리 유사도 확인"
   ]
  },
  {
   "cell_type": "code",
   "execution_count": 24,
   "id": "316910c8",
   "metadata": {},
   "outputs": [
    {
     "data": {
      "text/plain": [
       "array([[2.38220441]])"
      ]
     },
     "execution_count": 24,
     "metadata": {},
     "output_type": "execute_result"
    }
   ],
   "source": [
    "from sklearn.metrics.pairwise import manhattan_distances\n",
    "manhattan_distances(m_data[0:1],m_data[1:2])"
   ]
  },
  {
   "cell_type": "markdown",
   "id": "bdc52a19",
   "metadata": {},
   "source": [
    "정규화된 data를 이용하여 유사도 계산"
   ]
  },
  {
   "cell_type": "code",
   "execution_count": 25,
   "id": "65b0a484",
   "metadata": {
    "scrolled": true
   },
   "outputs": [
    {
     "data": {
      "text/plain": [
       "array([[0.23884449]])"
      ]
     },
     "execution_count": 25,
     "metadata": {},
     "output_type": "execute_result"
    }
   ],
   "source": [
    "euclidean_distances(e_data[0:1],e_data[1:2])"
   ]
  },
  {
   "cell_type": "code",
   "execution_count": 26,
   "id": "3cf68f14",
   "metadata": {},
   "outputs": [
    {
     "data": {
      "text/plain": [
       "array([[0.54258429]])"
      ]
     },
     "execution_count": 26,
     "metadata": {},
     "output_type": "execute_result"
    }
   ],
   "source": [
    "manhattan_distances(e_data[0:1],e_data[1:2])"
   ]
  },
  {
   "cell_type": "code",
   "execution_count": 27,
   "id": "5623c7c0",
   "metadata": {},
   "outputs": [],
   "source": [
    "data1 = '안녕 나는 오늘 힘들어.'\n",
    "data2 = '안녕 못해 나는 지금 너무 힘들어'\n",
    "data3 = '나는 너무 즐거워'\n",
    "from sklearn.feature_extraction.text import TfidfVectorizer\n",
    "t_v=TfidfVectorizer()\n",
    "m_data=t_v.fit_transform([data1,data2,data3])"
   ]
  },
  {
   "cell_type": "code",
   "execution_count": 28,
   "id": "da19955d",
   "metadata": {},
   "outputs": [],
   "source": [
    "#정규화\n",
    "def e_f(m):\n",
    "    return m/np.sum(m)\n",
    "e_data = e_f(m_data)"
   ]
  },
  {
   "cell_type": "code",
   "execution_count": 32,
   "id": "0f272fda",
   "metadata": {
    "scrolled": false
   },
   "outputs": [
    {
     "data": {
      "text/plain": [
       "(array([[1.02891385]]), array([[1.15714912]]), array([[-0.12823528]]))"
      ]
     },
     "execution_count": 32,
     "metadata": {},
     "output_type": "execute_result"
    }
   ],
   "source": [
    "euclidean_distances(m_data[0:1],m_data[1:2]),euclidean_distances(m_data[1:2],m_data[2:3]),euclidean_distances(m_data[0:1],m_data[1:2])-euclidean_distances(m_data[1:2],m_data[2:3])"
   ]
  },
  {
   "cell_type": "code",
   "execution_count": 37,
   "id": "eb79bce2",
   "metadata": {},
   "outputs": [],
   "source": [
    "ck1=euclidean_distances(m_data[0:1],m_data[1:2])\n",
    "ck2=euclidean_distances(m_data[1:2],m_data[2:3])\n",
    "ck1=ck1/ck1\n",
    "ck2=ck2/ck1"
   ]
  },
  {
   "cell_type": "markdown",
   "id": "81569620",
   "metadata": {},
   "source": [
    "정규화 안한 DATA를 이용한 거리 계산"
   ]
  },
  {
   "cell_type": "code",
   "execution_count": 44,
   "id": "fb69451a",
   "metadata": {},
   "outputs": [
    {
     "data": {
      "text/plain": [
       "(array([[1.]]), array([[1.15714912]]))"
      ]
     },
     "execution_count": 44,
     "metadata": {},
     "output_type": "execute_result"
    }
   ],
   "source": [
    "ck1,ck2"
   ]
  },
  {
   "cell_type": "code",
   "execution_count": 33,
   "id": "c408d7b8",
   "metadata": {},
   "outputs": [
    {
     "data": {
      "text/plain": [
       "(array([[0.16949987]]), array([[0.19062493]]), array([[-0.02112506]]))"
      ]
     },
     "execution_count": 33,
     "metadata": {},
     "output_type": "execute_result"
    }
   ],
   "source": [
    "euclidean_distances(e_data[0:1],e_data[1:2]),euclidean_distances(e_data[1:2],e_data[2:3]),euclidean_distances(e_data[0:1],e_data[1:2])-euclidean_distances(e_data[1:2],e_data[2:3])"
   ]
  },
  {
   "cell_type": "markdown",
   "id": "d1997d5d",
   "metadata": {},
   "source": [
    "정규화 한 DATA를 이용한 거리 계산"
   ]
  },
  {
   "cell_type": "code",
   "execution_count": 43,
   "id": "9b75f525",
   "metadata": {},
   "outputs": [
    {
     "data": {
      "text/plain": [
       "(array([[1.]]), array([[0.19062493]]))"
      ]
     },
     "execution_count": 43,
     "metadata": {},
     "output_type": "execute_result"
    }
   ],
   "source": [
    "e_ck1=euclidean_distances(e_data[0:1],e_data[1:2])\n",
    "e_ck2=euclidean_distances(e_data[1:2],e_data[2:3])\n",
    "e_ck1=e_ck1/e_ck1\n",
    "e_ck2=e_ck2/e_ck1\n",
    "e_ck1,e_ck2"
   ]
  },
  {
   "cell_type": "code",
   "execution_count": 46,
   "id": "f79b39c6",
   "metadata": {
    "scrolled": true
   },
   "outputs": [
    {
     "data": {
      "text/plain": [
       "array([[0.15714912]])"
      ]
     },
     "execution_count": 46,
     "metadata": {},
     "output_type": "execute_result"
    }
   ],
   "source": [
    "abs(ck1-ck2)"
   ]
  },
  {
   "cell_type": "code",
   "execution_count": 47,
   "id": "cb8defd2",
   "metadata": {},
   "outputs": [
    {
     "data": {
      "text/plain": [
       "array([[0.80937507]])"
      ]
     },
     "execution_count": 47,
     "metadata": {},
     "output_type": "execute_result"
    }
   ],
   "source": [
    "abs(e_ck1-e_ck2)"
   ]
  },
  {
   "cell_type": "code",
   "execution_count": 34,
   "id": "ec4bedf5",
   "metadata": {
    "scrolled": true
   },
   "outputs": [
    {
     "data": {
      "text/plain": [
       "(array([[2.28685493]]), array([[2.76734191]]))"
      ]
     },
     "execution_count": 34,
     "metadata": {},
     "output_type": "execute_result"
    }
   ],
   "source": [
    "manhattan_distances(m_data[0:1],m_data[1:2]),manhattan_distances(m_data[1:2],m_data[2:3])"
   ]
  },
  {
   "cell_type": "code",
   "execution_count": 35,
   "id": "ba86314f",
   "metadata": {},
   "outputs": [
    {
     "data": {
      "text/plain": [
       "(array([[0.37672893]]), array([[0.45588277]]))"
      ]
     },
     "execution_count": 35,
     "metadata": {},
     "output_type": "execute_result"
    }
   ],
   "source": [
    "manhattan_distances(e_data[0:1],e_data[1:2]),manhattan_distances(e_data[1:2],e_data[2:3])"
   ]
  }
 ],
 "metadata": {
  "kernelspec": {
   "display_name": "Python 3 (ipykernel)",
   "language": "python",
   "name": "python3"
  },
  "language_info": {
   "codemirror_mode": {
    "name": "ipython",
    "version": 3
   },
   "file_extension": ".py",
   "mimetype": "text/x-python",
   "name": "python",
   "nbconvert_exporter": "python",
   "pygments_lexer": "ipython3",
   "version": "3.9.7"
  }
 },
 "nbformat": 4,
 "nbformat_minor": 5
}
