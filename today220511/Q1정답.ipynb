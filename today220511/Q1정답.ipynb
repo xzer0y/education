{
 "cells": [
  {
   "cell_type": "code",
   "execution_count": 1,
   "id": "f285ecdf",
   "metadata": {
    "scrolled": true
   },
   "outputs": [],
   "source": [
    "import pandas as pd\n",
    "import numpy as np\n",
    "from konlpy.tag import Okt\n",
    "data=pd.read_csv(\"data2.csv\")"
   ]
  },
  {
   "cell_type": "code",
   "execution_count": 2,
   "id": "226447ae",
   "metadata": {
    "scrolled": true
   },
   "outputs": [
    {
     "data": {
      "text/plain": [
       "str"
      ]
     },
     "execution_count": 2,
     "metadata": {},
     "output_type": "execute_result"
    }
   ],
   "source": [
    "from sklearn.feature_extraction.text import TfidfVectorizer\n",
    "from konlpy.tag import Okt\n",
    "\n",
    "okt = Okt()\n",
    "data_l = [' '.join(okt.morphs(i)) for i in data['content']]\n",
    "type(data_l[0])"
   ]
  },
  {
   "cell_type": "code",
   "execution_count": 3,
   "id": "a5801fa6",
   "metadata": {
    "scrolled": true
   },
   "outputs": [],
   "source": [
    "tfidf_v = TfidfVectorizer()\n",
    "tfidf_m = tfidf_v.fit_transform(data_l)"
   ]
  },
  {
   "cell_type": "code",
   "execution_count": 4,
   "id": "e705be07",
   "metadata": {},
   "outputs": [
    {
     "data": {
      "text/plain": [
       "(18, 18, 18)"
      ]
     },
     "execution_count": 4,
     "metadata": {},
     "output_type": "execute_result"
    }
   ],
   "source": [
    "from sklearn.metrics.pairwise import cosine_similarity\n",
    "from sklearn.metrics.pairwise import manhattan_distances\n",
    "from sklearn.metrics import euclidean_distances\n",
    "cos=cosine_similarity(tfidf_m,tfidf_m)#숫자가 높으면 유사도는?->높다\n",
    "c1=manhattan_distances(tfidf_m,tfidf_m)#숫자가 높으면 유사도는?->낮다\n",
    "c2=euclidean_distances(tfidf_m,tfidf_m)#\n",
    "len(cos),len(c1),len(c2)"
   ]
  },
  {
   "cell_type": "code",
   "execution_count": 5,
   "id": "23d7a272",
   "metadata": {},
   "outputs": [
    {
     "data": {
      "text/plain": [
       "5     친절한금자씨\n",
       "11    어바웃 타임\n",
       "8        아저씨\n",
       "Name: name, dtype: object"
      ]
     },
     "execution_count": 5,
     "metadata": {},
     "output_type": "execute_result"
    }
   ],
   "source": [
    "t_idx=dict(zip(data['name'],data.index))\n",
    "def ck_s_t(t,cosine_sim=cos,k=0):\n",
    "    idx=t_idx[t]\n",
    "    c_sc=list(enumerate(cosine_sim[idx]))\n",
    "    if k==0:\n",
    "        c_sc=sorted(c_sc,key=lambda x:x[1],reverse=True)#내림차순 정렬\n",
    "    else:\n",
    "        c_sc=sorted(c_sc,key=lambda x:x[1])\n",
    "    m_i=c_sc[1:4]\n",
    "    m_idx=[i[0] for i in m_i]\n",
    "    return data['name'].iloc[m_idx]\n",
    "ck_s_t('올드보이',k=0)"
   ]
  },
  {
   "cell_type": "code",
   "execution_count": 6,
   "id": "acf5ba05",
   "metadata": {},
   "outputs": [
    {
     "data": {
      "text/plain": [
       "10       장고\n",
       "1       노트북\n",
       "13    트랜스포머\n",
       "Name: name, dtype: object"
      ]
     },
     "execution_count": 6,
     "metadata": {},
     "output_type": "execute_result"
    }
   ],
   "source": [
    "ck_s_t('올드보이',c1,k=1)"
   ]
  },
  {
   "cell_type": "code",
   "execution_count": 7,
   "id": "1cb69770",
   "metadata": {},
   "outputs": [
    {
     "data": {
      "text/plain": [
       "5     친절한금자씨\n",
       "11    어바웃 타임\n",
       "8        아저씨\n",
       "Name: name, dtype: object"
      ]
     },
     "execution_count": 7,
     "metadata": {},
     "output_type": "execute_result"
    }
   ],
   "source": [
    "ck_s_t('올드보이',c2,k=1) "
   ]
  }
 ],
 "metadata": {
  "kernelspec": {
   "display_name": "Python 3 (ipykernel)",
   "language": "python",
   "name": "python3"
  },
  "language_info": {
   "codemirror_mode": {
    "name": "ipython",
    "version": 3
   },
   "file_extension": ".py",
   "mimetype": "text/x-python",
   "name": "python",
   "nbconvert_exporter": "python",
   "pygments_lexer": "ipython3",
   "version": "3.9.7"
  }
 },
 "nbformat": 4,
 "nbformat_minor": 5
}
