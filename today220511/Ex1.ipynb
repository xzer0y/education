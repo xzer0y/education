{
 "cells": [
  {
   "cell_type": "code",
   "execution_count": 1,
   "id": "4fd06680",
   "metadata": {},
   "outputs": [
    {
     "data": {
      "text/plain": [
       "0"
      ]
     },
     "execution_count": 1,
     "metadata": {},
     "output_type": "execute_result"
    }
   ],
   "source": [
    "d={'A':0}\n",
    "d['A']"
   ]
  },
  {
   "cell_type": "code",
   "execution_count": 2,
   "id": "ca0d5343",
   "metadata": {},
   "outputs": [],
   "source": [
    "#list(enumerate([영화리뷰유사도,영화리뷰유사도,영화리뷰유사도,영화리뷰유사도,영화리뷰유사도,영화리뷰유사도]))\n"
   ]
  },
  {
   "cell_type": "code",
   "execution_count": 11,
   "id": "d10ac41e",
   "metadata": {},
   "outputs": [
    {
     "data": {
      "text/plain": [
       "1154    The Empire Strikes Back\n",
       "1167         Return of the Jedi\n",
       "1267               Mad Dog Time\n",
       "5187        The Triumph of Love\n",
       "309           The Swan Princess\n",
       "Name: title, dtype: object"
      ]
     },
     "execution_count": 11,
     "metadata": {},
     "output_type": "execute_result"
    }
   ],
   "source": [
    "import pandas as pd\n",
    "from sklearn.feature_extraction.text import TfidfVectorizer\n",
    "from sklearn.metrics.pairwise import cosine_similarity\n",
    "data=pd.read_csv('data1.csv',low_memory=False)\n",
    "data=data.head(20000)\n",
    "data['overview']=data['overview'].fillna('')\n",
    "tfidf = TfidfVectorizer(stop_words='english')\n",
    "tfidf_t=tfidf.fit_transform(data['overview'])\n",
    "#선입력 data별 후입력 data 모두와 코사인 유사도 계산 \n",
    "cos=cosine_similarity(tfidf_t,tfidf_t)\n",
    "t_idx=dict(zip(data['title'],data.index))\n",
    "def ck_s_t(t,cosine_sim=cos):\n",
    "    idx=t_idx[t]\n",
    "    c_sc=list(enumerate(cosine_sim[idx]))\n",
    "    c_sc=sorted(c_sc,key=lambda x:x[1],reverse=True)#내림차순 정렬\n",
    "    m_i=c_sc[1:6]\n",
    "    m_idx=[i[0] for i in m_i]\n",
    "    return data['title'].iloc[m_idx]\n",
    "t_idx['Star Wars']\n",
    "ck_s_t('Star Wars')"
   ]
  }
 ],
 "metadata": {
  "kernelspec": {
   "display_name": "Python 3 (ipykernel)",
   "language": "python",
   "name": "python3"
  },
  "language_info": {
   "codemirror_mode": {
    "name": "ipython",
    "version": 3
   },
   "file_extension": ".py",
   "mimetype": "text/x-python",
   "name": "python",
   "nbconvert_exporter": "python",
   "pygments_lexer": "ipython3",
   "version": "3.9.7"
  }
 },
 "nbformat": 4,
 "nbformat_minor": 5
}
