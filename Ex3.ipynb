{
 "cells": [
  {
   "cell_type": "code",
   "execution_count": 1,
   "id": "d8799e53",
   "metadata": {},
   "outputs": [],
   "source": [
    "from konlpy.tag import Okt#한국어 분석기\n",
    "from ckonlpy.tag import Twitter#한국어 분석기 보조 장치"
   ]
  },
  {
   "cell_type": "code",
   "execution_count": 3,
   "id": "c2f99cbe",
   "metadata": {},
   "outputs": [
    {
     "data": {
      "text/plain": [
       "['은', '호가', '교실']"
      ]
     },
     "execution_count": 3,
     "metadata": {},
     "output_type": "execute_result"
    }
   ],
   "source": [
    "t='은호가 교실로 들어갔다.'\n",
    "tw=Okt()\n",
    "tw.nouns(t)\n",
    "#tw.nouns#명사 추출\n",
    "#tw.morphs#형태소 추출\n",
    "#tw.pos# 품수 추출"
   ]
  },
  {
   "cell_type": "code",
   "execution_count": 4,
   "id": "dee4ba94",
   "metadata": {
    "scrolled": true
   },
   "outputs": [
    {
     "data": {
      "text/plain": [
       "['은', '호가', '교실', '로', '들어갔다', '.']"
      ]
     },
     "execution_count": 4,
     "metadata": {},
     "output_type": "execute_result"
    }
   ],
   "source": [
    "tw.morphs(t)"
   ]
  },
  {
   "cell_type": "code",
   "execution_count": 5,
   "id": "0d1268a7",
   "metadata": {
    "scrolled": true
   },
   "outputs": [
    {
     "data": {
      "text/plain": [
       "[('은', 'Noun'),\n",
       " ('호가', 'Noun'),\n",
       " ('교실', 'Noun'),\n",
       " ('로', 'Josa'),\n",
       " ('들어갔다', 'Verb'),\n",
       " ('.', 'Punctuation')]"
      ]
     },
     "execution_count": 5,
     "metadata": {},
     "output_type": "execute_result"
    }
   ],
   "source": [
    "tw.pos(t)"
   ]
  },
  {
   "cell_type": "code",
   "execution_count": 6,
   "id": "922a2508",
   "metadata": {
    "scrolled": false
   },
   "outputs": [
    {
     "name": "stderr",
     "output_type": "stream",
     "text": [
      "C:\\ProgramData\\Anaconda3\\lib\\site-packages\\konlpy\\tag\\_okt.py:17: UserWarning: \"Twitter\" has changed to \"Okt\" since KoNLPy v0.4.5.\n",
      "  warn('\"Twitter\" has changed to \"Okt\" since KoNLPy v0.4.5.')\n"
     ]
    },
    {
     "data": {
      "text/plain": [
       "['은', '호가', '교실', '로', '들어갔다', '.']"
      ]
     },
     "execution_count": 6,
     "metadata": {},
     "output_type": "execute_result"
    }
   ],
   "source": [
    "from konlpy.tag import Twitter\n",
    "tw1=Twitter()\n",
    "tw1.morphs(t)"
   ]
  },
  {
   "cell_type": "code",
   "execution_count": 7,
   "id": "1092142e",
   "metadata": {
    "scrolled": false
   },
   "outputs": [
    {
     "name": "stderr",
     "output_type": "stream",
     "text": [
      "C:\\ProgramData\\Anaconda3\\lib\\site-packages\\konlpy\\tag\\_okt.py:17: UserWarning: \"Twitter\" has changed to \"Okt\" since KoNLPy v0.4.5.\n",
      "  warn('\"Twitter\" has changed to \"Okt\" since KoNLPy v0.4.5.')\n"
     ]
    },
    {
     "data": {
      "text/plain": [
       "['은', '호가', '교실', '로', '들어갔다', '.']"
      ]
     },
     "execution_count": 7,
     "metadata": {},
     "output_type": "execute_result"
    }
   ],
   "source": [
    "from ckonlpy.tag import Twitter\n",
    "tw2=Twitter()\n",
    "tw2.morphs(t)"
   ]
  },
  {
   "cell_type": "code",
   "execution_count": 8,
   "id": "2f1cf53b",
   "metadata": {},
   "outputs": [],
   "source": [
    "tw2.add_dictionary('은호','Noun')"
   ]
  },
  {
   "cell_type": "code",
   "execution_count": 9,
   "id": "badd3b0a",
   "metadata": {},
   "outputs": [
    {
     "data": {
      "text/plain": [
       "'은호가 교실로 들어갔다.'"
      ]
     },
     "execution_count": 9,
     "metadata": {},
     "output_type": "execute_result"
    }
   ],
   "source": [
    "t"
   ]
  },
  {
   "cell_type": "code",
   "execution_count": 10,
   "id": "5a9ea844",
   "metadata": {
    "scrolled": true
   },
   "outputs": [
    {
     "data": {
      "text/plain": [
       "['은호', '가', '교실', '로', '들어갔다', '.']"
      ]
     },
     "execution_count": 10,
     "metadata": {},
     "output_type": "execute_result"
    }
   ],
   "source": [
    "tw2.morphs(t)"
   ]
  },
  {
   "cell_type": "code",
   "execution_count": 11,
   "id": "d2039923",
   "metadata": {
    "scrolled": true
   },
   "outputs": [
    {
     "data": {
      "text/plain": [
       "['은호', '교실']"
      ]
     },
     "execution_count": 11,
     "metadata": {},
     "output_type": "execute_result"
    }
   ],
   "source": [
    "tw2.nouns(t)"
   ]
  },
  {
   "cell_type": "code",
   "execution_count": 12,
   "id": "9c157ab4",
   "metadata": {
    "scrolled": false
   },
   "outputs": [
    {
     "data": {
      "text/plain": [
       "[('은호', 'Noun'),\n",
       " ('가', 'Josa'),\n",
       " ('교실', 'Noun'),\n",
       " ('로', 'Josa'),\n",
       " ('들어갔다', 'Verb'),\n",
       " ('.', 'Punctuation')]"
      ]
     },
     "execution_count": 12,
     "metadata": {},
     "output_type": "execute_result"
    }
   ],
   "source": [
    "tw2.pos(t)"
   ]
  },
  {
   "cell_type": "code",
   "execution_count": 28,
   "id": "54ca31da",
   "metadata": {},
   "outputs": [],
   "source": [
    "tw2.add_dictionary('은이','Noun')"
   ]
  },
  {
   "cell_type": "code",
   "execution_count": 29,
   "id": "0c683ccd",
   "metadata": {
    "scrolled": true
   },
   "outputs": [
    {
     "data": {
      "text/plain": [
       "[('은호', 'Noun'),\n",
       " ('가', 'Josa'),\n",
       " ('교실', 'Noun'),\n",
       " ('로', 'Josa'),\n",
       " ('은이', 'Noun'),\n",
       " ('가', 'Josa'),\n",
       " ('집', 'Noun'),\n",
       " ('으로', 'Josa'),\n",
       " ('들어갔다', 'Verb'),\n",
       " ('.', 'Punctuation')]"
      ]
     },
     "execution_count": 29,
     "metadata": {},
     "output_type": "execute_result"
    }
   ],
   "source": [
    "t2='은호가 교실로 은이가 집으로 들어갔다.'\n",
    "tw2.pos(t2)"
   ]
  },
  {
   "cell_type": "code",
   "execution_count": 31,
   "id": "3528f04e",
   "metadata": {
    "scrolled": true
   },
   "outputs": [
    {
     "data": {
      "text/plain": [
       "[('은', 'Noun'),\n",
       " ('호가', 'Noun'),\n",
       " ('교실', 'Noun'),\n",
       " ('로', 'Josa'),\n",
       " ('은', 'Noun'),\n",
       " ('이', 'Suffix'),\n",
       " ('가', 'Josa'),\n",
       " ('집', 'Noun'),\n",
       " ('으로', 'Josa'),\n",
       " ('들어갔다', 'Verb'),\n",
       " ('.', 'Punctuation')]"
      ]
     },
     "execution_count": 31,
     "metadata": {},
     "output_type": "execute_result"
    }
   ],
   "source": [
    "tw3=Twitter()\n",
    "tw3.pos(t2)"
   ]
  },
  {
   "cell_type": "code",
   "execution_count": 33,
   "id": "dffdb8cd",
   "metadata": {},
   "outputs": [
    {
     "data": {
      "text/plain": [
       "['은호', '가', '교실', '로', '은이', '가', '집', '으로', '들어갔다', '.']"
      ]
     },
     "execution_count": 33,
     "metadata": {},
     "output_type": "execute_result"
    }
   ],
   "source": [
    "tw2.morphs(t2)"
   ]
  }
 ],
 "metadata": {
  "kernelspec": {
   "display_name": "Python 3 (ipykernel)",
   "language": "python",
   "name": "python3"
  },
  "language_info": {
   "codemirror_mode": {
    "name": "ipython",
    "version": 3
   },
   "file_extension": ".py",
   "mimetype": "text/x-python",
   "name": "python",
   "nbconvert_exporter": "python",
   "pygments_lexer": "ipython3",
   "version": "3.9.7"
  }
 },
 "nbformat": 4,
 "nbformat_minor": 5
}
