{
 "cells": [
  {
   "cell_type": "markdown",
   "id": "f4ff9845",
   "metadata": {},
   "source": [
    "## 택스트 기반의 다중 분류"
   ]
  },
  {
   "cell_type": "markdown",
   "id": "d234d7ef",
   "metadata": {},
   "source": [
    "환경 로드"
   ]
  },
  {
   "cell_type": "code",
   "execution_count": 1,
   "id": "ca17f066",
   "metadata": {},
   "outputs": [],
   "source": [
    "from sklearn.datasets import fetch_20newsgroups#data로드\n",
    "import pandas as pd\n",
    "from tensorflow.keras.preprocessing.text import Tokenizer#토큰\n",
    "from tensorflow.keras.utils import to_categorical#원핫인코딩 (정수형 범주)\n",
    "from sklearn.model_selection import train_test_split\n",
    "import matplotlib.pyplot as plt\n",
    "from tensorflow.keras.models import Sequential\n",
    "from tensorflow.keras.layers import Dense,Dropout"
   ]
  },
  {
   "cell_type": "markdown",
   "id": "312c1757",
   "metadata": {},
   "source": [
    "data로드"
   ]
  },
  {
   "cell_type": "code",
   "execution_count": 2,
   "id": "7f8df569",
   "metadata": {},
   "outputs": [],
   "source": [
    "data=fetch_20newsgroups()\n",
    "X_data=data.data\n",
    "Y_data=data.target"
   ]
  },
  {
   "cell_type": "markdown",
   "id": "7e1b2e6c",
   "metadata": {},
   "source": [
    "data 전처리"
   ]
  },
  {
   "cell_type": "code",
   "execution_count": 3,
   "id": "0e7892af",
   "metadata": {},
   "outputs": [
    {
     "data": {
      "text/plain": [
       "numpy.ndarray"
      ]
     },
     "execution_count": 3,
     "metadata": {},
     "output_type": "execute_result"
    }
   ],
   "source": [
    "tk=Tokenizer(num_words=10000)\n",
    "tk.fit_on_texts(X_data)\n",
    "X=tk.texts_to_matrix(X_data,mode='tfidf')#mode=[binary,count,tfidf]\n",
    "Y= to_categorical(Y_data)\n",
    "t_x,tt_x,t_y,tt_y=train_test_split(X,Y)\n",
    "type(X)"
   ]
  },
  {
   "cell_type": "markdown",
   "id": "aecabb20",
   "metadata": {},
   "source": [
    "모델 생성 학습"
   ]
  },
  {
   "cell_type": "code",
   "execution_count": 4,
   "id": "307b6d75",
   "metadata": {},
   "outputs": [
    {
     "name": "stdout",
     "output_type": "stream",
     "text": [
      "Epoch 1/10\n",
      "266/266 [==============================] - 4s 14ms/step - loss: 1.9661 - accuracy: 0.4543 - val_loss: 0.6321 - val_accuracy: 0.8537\n",
      "Epoch 2/10\n",
      "266/266 [==============================] - 3s 13ms/step - loss: 0.7033 - accuracy: 0.8166 - val_loss: 0.4880 - val_accuracy: 0.8834\n",
      "Epoch 3/10\n",
      "266/266 [==============================] - 3s 13ms/step - loss: 0.4602 - accuracy: 0.8925 - val_loss: 0.4659 - val_accuracy: 0.8809\n",
      "Epoch 4/10\n",
      "266/266 [==============================] - 4s 13ms/step - loss: 0.3720 - accuracy: 0.9233 - val_loss: 0.4515 - val_accuracy: 0.8947\n",
      "Epoch 5/10\n",
      "266/266 [==============================] - 3s 13ms/step - loss: 0.2680 - accuracy: 0.9459 - val_loss: 0.4410 - val_accuracy: 0.8904\n",
      "Epoch 6/10\n",
      "266/266 [==============================] - 3s 12ms/step - loss: 0.2288 - accuracy: 0.9551 - val_loss: 0.4628 - val_accuracy: 0.8961\n",
      "Epoch 7/10\n",
      "266/266 [==============================] - 3s 11ms/step - loss: 0.1977 - accuracy: 0.9697 - val_loss: 0.4960 - val_accuracy: 0.8957\n",
      "Epoch 8/10\n",
      "266/266 [==============================] - 3s 12ms/step - loss: 0.2308 - accuracy: 0.9671 - val_loss: 0.5193 - val_accuracy: 0.8918\n",
      "Epoch 9/10\n",
      "266/266 [==============================] - 3s 12ms/step - loss: 0.1393 - accuracy: 0.9730 - val_loss: 0.6520 - val_accuracy: 0.8978\n",
      "Epoch 10/10\n",
      "266/266 [==============================] - 3s 12ms/step - loss: 0.1405 - accuracy: 0.9718 - val_loss: 0.5411 - val_accuracy: 0.9010\n"
     ]
    }
   ],
   "source": [
    "m=Sequential()\n",
    "m.add(Dense(256,input_shape=(10000,),activation='relu'))\n",
    "m.add(Dropout(0.5))\n",
    "m.add(Dense(128,activation='relu'))\n",
    "m.add(Dropout(0.5))\n",
    "m.add(Dense(20,activation='softmax'))\n",
    "m.compile(optimizer='adam',loss='categorical_crossentropy',\n",
    "          metrics=['accuracy'])\n",
    "hy=m.fit(t_x,t_y,epochs=10,validation_data=(tt_x,tt_y))"
   ]
  },
  {
   "cell_type": "markdown",
   "id": "9448077f",
   "metadata": {},
   "source": [
    "결과 확인"
   ]
  },
  {
   "cell_type": "code",
   "execution_count": 5,
   "id": "b869fd08",
   "metadata": {},
   "outputs": [
    {
     "data": {
      "text/plain": [
       "[<matplotlib.lines.Line2D at 0x2629045afa0>]"
      ]
     },
     "execution_count": 5,
     "metadata": {},
     "output_type": "execute_result"
    },
    {
     "data": {
      "image/png": "[encoded data removed]",
      "text/plain": [
       "<Figure size 432x288 with 1 Axes>"
      ]
     },
     "metadata": {
      "needs_background": "light"
     },
     "output_type": "display_data"
    }
   ],
   "source": [
    "ec=range(1,len(hy.history['accuracy'])+1)\n",
    "plt.plot(ec,hy.history['loss'])\n",
    "plt.plot(ec,hy.history['val_loss'])"
   ]
  }
 ],
 "metadata": {
  "kernelspec": {
   "display_name": "Python 3 (ipykernel)",
   "language": "python",
   "name": "python3"
  },
  "language_info": {
   "codemirror_mode": {
    "name": "ipython",
    "version": 3
   },
   "file_extension": ".py",
   "mimetype": "text/x-python",
   "name": "python",
   "nbconvert_exporter": "python",
   "pygments_lexer": "ipython3",
   "version": "3.9.7"
  }
 },
 "nbformat": 4,
 "nbformat_minor": 5
}
